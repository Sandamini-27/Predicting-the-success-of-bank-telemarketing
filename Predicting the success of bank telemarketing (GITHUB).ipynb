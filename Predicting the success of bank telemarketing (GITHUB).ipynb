{
 "cells": [
  {
   "cell_type": "markdown",
   "id": "17c6f79b",
   "metadata": {},
   "source": [
    "# Predicting the success of bank telemarketing "
   ]
  },
  {
   "cell_type": "markdown",
   "id": "290d49b3",
   "metadata": {},
   "source": [
    "# Data Pre-processing "
   ]
  },
  {
   "cell_type": "markdown",
   "id": "c21ca6ee",
   "metadata": {},
   "source": [
    "## Data integration and Cleaning"
   ]
  },
  {
   "cell_type": "code",
   "execution_count": 1,
   "id": "d4d5e424",
   "metadata": {},
   "outputs": [],
   "source": [
    "# Import libraries \n",
    "import os\n",
    "import pandas as pd\n",
    "import numpy as np\n",
    "import matplotlib.pyplot as plt\n",
    "import seaborn as sns\n",
    "\n",
    "import statsmodels.api as sm\n",
    "import sklearn\n",
    "import scikitplot as skplt\n",
    "\n",
    "import warnings\n",
    "warnings.filterwarnings(\"ignore\")"
   ]
  },
  {
   "cell_type": "code",
   "execution_count": 2,
   "id": "c25c65eb",
   "metadata": {},
   "outputs": [
    {
     "name": "stdout",
     "output_type": "stream",
     "text": [
      "C:\\Users\\User\\OneDrive\\Documents\\MSc Data Science\\Machine learning\\Assignment\n"
     ]
    }
   ],
   "source": [
    "# changing the working directory \n",
    "os.chdir(\"/Users/User/OneDrive/Documents/MSc Data Science/Machine learning/Assignment\")\n",
    "print(os.getcwd())"
   ]
  },
  {
   "cell_type": "code",
   "execution_count": 3,
   "id": "1a29472c",
   "metadata": {},
   "outputs": [
    {
     "data": {
      "text/html": [
       "<div>\n",
       "<style scoped>\n",
       "    .dataframe tbody tr th:only-of-type {\n",
       "        vertical-align: middle;\n",
       "    }\n",
       "\n",
       "    .dataframe tbody tr th {\n",
       "        vertical-align: top;\n",
       "    }\n",
       "\n",
       "    .dataframe thead th {\n",
       "        text-align: right;\n",
       "    }\n",
       "</style>\n",
       "<table border=\"1\" class=\"dataframe\">\n",
       "  <thead>\n",
       "    <tr style=\"text-align: right;\">\n",
       "      <th></th>\n",
       "      <th>age</th>\n",
       "      <th>job</th>\n",
       "      <th>marital</th>\n",
       "      <th>education</th>\n",
       "      <th>default</th>\n",
       "      <th>balance</th>\n",
       "      <th>housing</th>\n",
       "      <th>loan</th>\n",
       "      <th>contact</th>\n",
       "      <th>day</th>\n",
       "      <th>month</th>\n",
       "      <th>duration</th>\n",
       "      <th>campaign</th>\n",
       "      <th>pdays</th>\n",
       "      <th>previous</th>\n",
       "      <th>poutcome</th>\n",
       "      <th>y</th>\n",
       "    </tr>\n",
       "  </thead>\n",
       "  <tbody>\n",
       "    <tr>\n",
       "      <th>0</th>\n",
       "      <td>58</td>\n",
       "      <td>management</td>\n",
       "      <td>married</td>\n",
       "      <td>tertiary</td>\n",
       "      <td>no</td>\n",
       "      <td>2143</td>\n",
       "      <td>yes</td>\n",
       "      <td>no</td>\n",
       "      <td>unknown</td>\n",
       "      <td>5</td>\n",
       "      <td>may</td>\n",
       "      <td>261</td>\n",
       "      <td>1</td>\n",
       "      <td>-1</td>\n",
       "      <td>0</td>\n",
       "      <td>unknown</td>\n",
       "      <td>no</td>\n",
       "    </tr>\n",
       "    <tr>\n",
       "      <th>1</th>\n",
       "      <td>44</td>\n",
       "      <td>technician</td>\n",
       "      <td>single</td>\n",
       "      <td>secondary</td>\n",
       "      <td>no</td>\n",
       "      <td>29</td>\n",
       "      <td>yes</td>\n",
       "      <td>no</td>\n",
       "      <td>unknown</td>\n",
       "      <td>5</td>\n",
       "      <td>may</td>\n",
       "      <td>151</td>\n",
       "      <td>1</td>\n",
       "      <td>-1</td>\n",
       "      <td>0</td>\n",
       "      <td>unknown</td>\n",
       "      <td>no</td>\n",
       "    </tr>\n",
       "    <tr>\n",
       "      <th>2</th>\n",
       "      <td>33</td>\n",
       "      <td>entrepreneur</td>\n",
       "      <td>married</td>\n",
       "      <td>secondary</td>\n",
       "      <td>no</td>\n",
       "      <td>2</td>\n",
       "      <td>yes</td>\n",
       "      <td>yes</td>\n",
       "      <td>unknown</td>\n",
       "      <td>5</td>\n",
       "      <td>may</td>\n",
       "      <td>76</td>\n",
       "      <td>1</td>\n",
       "      <td>-1</td>\n",
       "      <td>0</td>\n",
       "      <td>unknown</td>\n",
       "      <td>no</td>\n",
       "    </tr>\n",
       "    <tr>\n",
       "      <th>3</th>\n",
       "      <td>47</td>\n",
       "      <td>blue-collar</td>\n",
       "      <td>married</td>\n",
       "      <td>unknown</td>\n",
       "      <td>no</td>\n",
       "      <td>1506</td>\n",
       "      <td>yes</td>\n",
       "      <td>no</td>\n",
       "      <td>unknown</td>\n",
       "      <td>5</td>\n",
       "      <td>may</td>\n",
       "      <td>92</td>\n",
       "      <td>1</td>\n",
       "      <td>-1</td>\n",
       "      <td>0</td>\n",
       "      <td>unknown</td>\n",
       "      <td>no</td>\n",
       "    </tr>\n",
       "    <tr>\n",
       "      <th>4</th>\n",
       "      <td>33</td>\n",
       "      <td>unknown</td>\n",
       "      <td>single</td>\n",
       "      <td>unknown</td>\n",
       "      <td>no</td>\n",
       "      <td>1</td>\n",
       "      <td>no</td>\n",
       "      <td>no</td>\n",
       "      <td>unknown</td>\n",
       "      <td>5</td>\n",
       "      <td>may</td>\n",
       "      <td>198</td>\n",
       "      <td>1</td>\n",
       "      <td>-1</td>\n",
       "      <td>0</td>\n",
       "      <td>unknown</td>\n",
       "      <td>no</td>\n",
       "    </tr>\n",
       "    <tr>\n",
       "      <th>...</th>\n",
       "      <td>...</td>\n",
       "      <td>...</td>\n",
       "      <td>...</td>\n",
       "      <td>...</td>\n",
       "      <td>...</td>\n",
       "      <td>...</td>\n",
       "      <td>...</td>\n",
       "      <td>...</td>\n",
       "      <td>...</td>\n",
       "      <td>...</td>\n",
       "      <td>...</td>\n",
       "      <td>...</td>\n",
       "      <td>...</td>\n",
       "      <td>...</td>\n",
       "      <td>...</td>\n",
       "      <td>...</td>\n",
       "      <td>...</td>\n",
       "    </tr>\n",
       "    <tr>\n",
       "      <th>45206</th>\n",
       "      <td>51</td>\n",
       "      <td>technician</td>\n",
       "      <td>married</td>\n",
       "      <td>tertiary</td>\n",
       "      <td>no</td>\n",
       "      <td>825</td>\n",
       "      <td>no</td>\n",
       "      <td>no</td>\n",
       "      <td>cellular</td>\n",
       "      <td>17</td>\n",
       "      <td>nov</td>\n",
       "      <td>977</td>\n",
       "      <td>3</td>\n",
       "      <td>-1</td>\n",
       "      <td>0</td>\n",
       "      <td>unknown</td>\n",
       "      <td>yes</td>\n",
       "    </tr>\n",
       "    <tr>\n",
       "      <th>45207</th>\n",
       "      <td>71</td>\n",
       "      <td>retired</td>\n",
       "      <td>divorced</td>\n",
       "      <td>primary</td>\n",
       "      <td>no</td>\n",
       "      <td>1729</td>\n",
       "      <td>no</td>\n",
       "      <td>no</td>\n",
       "      <td>cellular</td>\n",
       "      <td>17</td>\n",
       "      <td>nov</td>\n",
       "      <td>456</td>\n",
       "      <td>2</td>\n",
       "      <td>-1</td>\n",
       "      <td>0</td>\n",
       "      <td>unknown</td>\n",
       "      <td>yes</td>\n",
       "    </tr>\n",
       "    <tr>\n",
       "      <th>45208</th>\n",
       "      <td>72</td>\n",
       "      <td>retired</td>\n",
       "      <td>married</td>\n",
       "      <td>secondary</td>\n",
       "      <td>no</td>\n",
       "      <td>5715</td>\n",
       "      <td>no</td>\n",
       "      <td>no</td>\n",
       "      <td>cellular</td>\n",
       "      <td>17</td>\n",
       "      <td>nov</td>\n",
       "      <td>1127</td>\n",
       "      <td>5</td>\n",
       "      <td>184</td>\n",
       "      <td>3</td>\n",
       "      <td>success</td>\n",
       "      <td>yes</td>\n",
       "    </tr>\n",
       "    <tr>\n",
       "      <th>45209</th>\n",
       "      <td>57</td>\n",
       "      <td>blue-collar</td>\n",
       "      <td>married</td>\n",
       "      <td>secondary</td>\n",
       "      <td>no</td>\n",
       "      <td>668</td>\n",
       "      <td>no</td>\n",
       "      <td>no</td>\n",
       "      <td>telephone</td>\n",
       "      <td>17</td>\n",
       "      <td>nov</td>\n",
       "      <td>508</td>\n",
       "      <td>4</td>\n",
       "      <td>-1</td>\n",
       "      <td>0</td>\n",
       "      <td>unknown</td>\n",
       "      <td>no</td>\n",
       "    </tr>\n",
       "    <tr>\n",
       "      <th>45210</th>\n",
       "      <td>37</td>\n",
       "      <td>entrepreneur</td>\n",
       "      <td>married</td>\n",
       "      <td>secondary</td>\n",
       "      <td>no</td>\n",
       "      <td>2971</td>\n",
       "      <td>no</td>\n",
       "      <td>no</td>\n",
       "      <td>cellular</td>\n",
       "      <td>17</td>\n",
       "      <td>nov</td>\n",
       "      <td>361</td>\n",
       "      <td>2</td>\n",
       "      <td>188</td>\n",
       "      <td>11</td>\n",
       "      <td>other</td>\n",
       "      <td>no</td>\n",
       "    </tr>\n",
       "  </tbody>\n",
       "</table>\n",
       "<p>45211 rows × 17 columns</p>\n",
       "</div>"
      ],
      "text/plain": [
       "       age           job   marital  education default  balance housing loan  \\\n",
       "0       58    management   married   tertiary      no     2143     yes   no   \n",
       "1       44    technician    single  secondary      no       29     yes   no   \n",
       "2       33  entrepreneur   married  secondary      no        2     yes  yes   \n",
       "3       47   blue-collar   married    unknown      no     1506     yes   no   \n",
       "4       33       unknown    single    unknown      no        1      no   no   \n",
       "...    ...           ...       ...        ...     ...      ...     ...  ...   \n",
       "45206   51    technician   married   tertiary      no      825      no   no   \n",
       "45207   71       retired  divorced    primary      no     1729      no   no   \n",
       "45208   72       retired   married  secondary      no     5715      no   no   \n",
       "45209   57   blue-collar   married  secondary      no      668      no   no   \n",
       "45210   37  entrepreneur   married  secondary      no     2971      no   no   \n",
       "\n",
       "         contact  day month  duration  campaign  pdays  previous poutcome    y  \n",
       "0        unknown    5   may       261         1     -1         0  unknown   no  \n",
       "1        unknown    5   may       151         1     -1         0  unknown   no  \n",
       "2        unknown    5   may        76         1     -1         0  unknown   no  \n",
       "3        unknown    5   may        92         1     -1         0  unknown   no  \n",
       "4        unknown    5   may       198         1     -1         0  unknown   no  \n",
       "...          ...  ...   ...       ...       ...    ...       ...      ...  ...  \n",
       "45206   cellular   17   nov       977         3     -1         0  unknown  yes  \n",
       "45207   cellular   17   nov       456         2     -1         0  unknown  yes  \n",
       "45208   cellular   17   nov      1127         5    184         3  success  yes  \n",
       "45209  telephone   17   nov       508         4     -1         0  unknown   no  \n",
       "45210   cellular   17   nov       361         2    188        11    other   no  \n",
       "\n",
       "[45211 rows x 17 columns]"
      ]
     },
     "execution_count": 3,
     "metadata": {},
     "output_type": "execute_result"
    }
   ],
   "source": [
    "# loading the data frame by accessing the dataset file\n",
    "dataframe = pd.read_csv(\"bank-full.csv\", sep = \";\")\n",
    "\n",
    "dataframe"
   ]
  },
  {
   "cell_type": "code",
   "execution_count": 4,
   "id": "e28c35bb",
   "metadata": {},
   "outputs": [
    {
     "name": "stdout",
     "output_type": "stream",
     "text": [
      "Shape of the data is:  (45211, 17)\n"
     ]
    }
   ],
   "source": [
    "# checking how many rows and columns are there in the dataset \n",
    "print('Shape of the data is: ',dataframe.shape)"
   ]
  },
  {
   "cell_type": "code",
   "execution_count": 5,
   "id": "b673325d",
   "metadata": {},
   "outputs": [],
   "source": [
    "# dataset has been copied as df\n",
    "df = dataframe.copy() "
   ]
  },
  {
   "cell_type": "code",
   "execution_count": 6,
   "id": "c805c236",
   "metadata": {},
   "outputs": [
    {
     "data": {
      "text/html": [
       "<div>\n",
       "<style scoped>\n",
       "    .dataframe tbody tr th:only-of-type {\n",
       "        vertical-align: middle;\n",
       "    }\n",
       "\n",
       "    .dataframe tbody tr th {\n",
       "        vertical-align: top;\n",
       "    }\n",
       "\n",
       "    .dataframe thead th {\n",
       "        text-align: right;\n",
       "    }\n",
       "</style>\n",
       "<table border=\"1\" class=\"dataframe\">\n",
       "  <thead>\n",
       "    <tr style=\"text-align: right;\">\n",
       "      <th></th>\n",
       "      <th>age</th>\n",
       "      <th>job</th>\n",
       "      <th>marital</th>\n",
       "      <th>education</th>\n",
       "      <th>default</th>\n",
       "      <th>balance</th>\n",
       "      <th>housing</th>\n",
       "      <th>loan</th>\n",
       "      <th>contact</th>\n",
       "      <th>day</th>\n",
       "      <th>month</th>\n",
       "      <th>duration</th>\n",
       "      <th>campaign</th>\n",
       "      <th>pdays</th>\n",
       "      <th>previous</th>\n",
       "      <th>poutcome</th>\n",
       "      <th>y</th>\n",
       "    </tr>\n",
       "  </thead>\n",
       "  <tbody>\n",
       "    <tr>\n",
       "      <th>0</th>\n",
       "      <td>58</td>\n",
       "      <td>management</td>\n",
       "      <td>married</td>\n",
       "      <td>tertiary</td>\n",
       "      <td>no</td>\n",
       "      <td>2143</td>\n",
       "      <td>yes</td>\n",
       "      <td>no</td>\n",
       "      <td>unknown</td>\n",
       "      <td>5</td>\n",
       "      <td>may</td>\n",
       "      <td>261</td>\n",
       "      <td>1</td>\n",
       "      <td>-1</td>\n",
       "      <td>0</td>\n",
       "      <td>unknown</td>\n",
       "      <td>no</td>\n",
       "    </tr>\n",
       "    <tr>\n",
       "      <th>1</th>\n",
       "      <td>44</td>\n",
       "      <td>technician</td>\n",
       "      <td>single</td>\n",
       "      <td>secondary</td>\n",
       "      <td>no</td>\n",
       "      <td>29</td>\n",
       "      <td>yes</td>\n",
       "      <td>no</td>\n",
       "      <td>unknown</td>\n",
       "      <td>5</td>\n",
       "      <td>may</td>\n",
       "      <td>151</td>\n",
       "      <td>1</td>\n",
       "      <td>-1</td>\n",
       "      <td>0</td>\n",
       "      <td>unknown</td>\n",
       "      <td>no</td>\n",
       "    </tr>\n",
       "    <tr>\n",
       "      <th>2</th>\n",
       "      <td>33</td>\n",
       "      <td>entrepreneur</td>\n",
       "      <td>married</td>\n",
       "      <td>secondary</td>\n",
       "      <td>no</td>\n",
       "      <td>2</td>\n",
       "      <td>yes</td>\n",
       "      <td>yes</td>\n",
       "      <td>unknown</td>\n",
       "      <td>5</td>\n",
       "      <td>may</td>\n",
       "      <td>76</td>\n",
       "      <td>1</td>\n",
       "      <td>-1</td>\n",
       "      <td>0</td>\n",
       "      <td>unknown</td>\n",
       "      <td>no</td>\n",
       "    </tr>\n",
       "    <tr>\n",
       "      <th>3</th>\n",
       "      <td>47</td>\n",
       "      <td>blue-collar</td>\n",
       "      <td>married</td>\n",
       "      <td>unknown</td>\n",
       "      <td>no</td>\n",
       "      <td>1506</td>\n",
       "      <td>yes</td>\n",
       "      <td>no</td>\n",
       "      <td>unknown</td>\n",
       "      <td>5</td>\n",
       "      <td>may</td>\n",
       "      <td>92</td>\n",
       "      <td>1</td>\n",
       "      <td>-1</td>\n",
       "      <td>0</td>\n",
       "      <td>unknown</td>\n",
       "      <td>no</td>\n",
       "    </tr>\n",
       "    <tr>\n",
       "      <th>4</th>\n",
       "      <td>33</td>\n",
       "      <td>unknown</td>\n",
       "      <td>single</td>\n",
       "      <td>unknown</td>\n",
       "      <td>no</td>\n",
       "      <td>1</td>\n",
       "      <td>no</td>\n",
       "      <td>no</td>\n",
       "      <td>unknown</td>\n",
       "      <td>5</td>\n",
       "      <td>may</td>\n",
       "      <td>198</td>\n",
       "      <td>1</td>\n",
       "      <td>-1</td>\n",
       "      <td>0</td>\n",
       "      <td>unknown</td>\n",
       "      <td>no</td>\n",
       "    </tr>\n",
       "    <tr>\n",
       "      <th>5</th>\n",
       "      <td>35</td>\n",
       "      <td>management</td>\n",
       "      <td>married</td>\n",
       "      <td>tertiary</td>\n",
       "      <td>no</td>\n",
       "      <td>231</td>\n",
       "      <td>yes</td>\n",
       "      <td>no</td>\n",
       "      <td>unknown</td>\n",
       "      <td>5</td>\n",
       "      <td>may</td>\n",
       "      <td>139</td>\n",
       "      <td>1</td>\n",
       "      <td>-1</td>\n",
       "      <td>0</td>\n",
       "      <td>unknown</td>\n",
       "      <td>no</td>\n",
       "    </tr>\n",
       "    <tr>\n",
       "      <th>6</th>\n",
       "      <td>28</td>\n",
       "      <td>management</td>\n",
       "      <td>single</td>\n",
       "      <td>tertiary</td>\n",
       "      <td>no</td>\n",
       "      <td>447</td>\n",
       "      <td>yes</td>\n",
       "      <td>yes</td>\n",
       "      <td>unknown</td>\n",
       "      <td>5</td>\n",
       "      <td>may</td>\n",
       "      <td>217</td>\n",
       "      <td>1</td>\n",
       "      <td>-1</td>\n",
       "      <td>0</td>\n",
       "      <td>unknown</td>\n",
       "      <td>no</td>\n",
       "    </tr>\n",
       "    <tr>\n",
       "      <th>7</th>\n",
       "      <td>42</td>\n",
       "      <td>entrepreneur</td>\n",
       "      <td>divorced</td>\n",
       "      <td>tertiary</td>\n",
       "      <td>yes</td>\n",
       "      <td>2</td>\n",
       "      <td>yes</td>\n",
       "      <td>no</td>\n",
       "      <td>unknown</td>\n",
       "      <td>5</td>\n",
       "      <td>may</td>\n",
       "      <td>380</td>\n",
       "      <td>1</td>\n",
       "      <td>-1</td>\n",
       "      <td>0</td>\n",
       "      <td>unknown</td>\n",
       "      <td>no</td>\n",
       "    </tr>\n",
       "    <tr>\n",
       "      <th>8</th>\n",
       "      <td>58</td>\n",
       "      <td>retired</td>\n",
       "      <td>married</td>\n",
       "      <td>primary</td>\n",
       "      <td>no</td>\n",
       "      <td>121</td>\n",
       "      <td>yes</td>\n",
       "      <td>no</td>\n",
       "      <td>unknown</td>\n",
       "      <td>5</td>\n",
       "      <td>may</td>\n",
       "      <td>50</td>\n",
       "      <td>1</td>\n",
       "      <td>-1</td>\n",
       "      <td>0</td>\n",
       "      <td>unknown</td>\n",
       "      <td>no</td>\n",
       "    </tr>\n",
       "    <tr>\n",
       "      <th>9</th>\n",
       "      <td>43</td>\n",
       "      <td>technician</td>\n",
       "      <td>single</td>\n",
       "      <td>secondary</td>\n",
       "      <td>no</td>\n",
       "      <td>593</td>\n",
       "      <td>yes</td>\n",
       "      <td>no</td>\n",
       "      <td>unknown</td>\n",
       "      <td>5</td>\n",
       "      <td>may</td>\n",
       "      <td>55</td>\n",
       "      <td>1</td>\n",
       "      <td>-1</td>\n",
       "      <td>0</td>\n",
       "      <td>unknown</td>\n",
       "      <td>no</td>\n",
       "    </tr>\n",
       "  </tbody>\n",
       "</table>\n",
       "</div>"
      ],
      "text/plain": [
       "   age           job   marital  education default  balance housing loan  \\\n",
       "0   58    management   married   tertiary      no     2143     yes   no   \n",
       "1   44    technician    single  secondary      no       29     yes   no   \n",
       "2   33  entrepreneur   married  secondary      no        2     yes  yes   \n",
       "3   47   blue-collar   married    unknown      no     1506     yes   no   \n",
       "4   33       unknown    single    unknown      no        1      no   no   \n",
       "5   35    management   married   tertiary      no      231     yes   no   \n",
       "6   28    management    single   tertiary      no      447     yes  yes   \n",
       "7   42  entrepreneur  divorced   tertiary     yes        2     yes   no   \n",
       "8   58       retired   married    primary      no      121     yes   no   \n",
       "9   43    technician    single  secondary      no      593     yes   no   \n",
       "\n",
       "   contact  day month  duration  campaign  pdays  previous poutcome   y  \n",
       "0  unknown    5   may       261         1     -1         0  unknown  no  \n",
       "1  unknown    5   may       151         1     -1         0  unknown  no  \n",
       "2  unknown    5   may        76         1     -1         0  unknown  no  \n",
       "3  unknown    5   may        92         1     -1         0  unknown  no  \n",
       "4  unknown    5   may       198         1     -1         0  unknown  no  \n",
       "5  unknown    5   may       139         1     -1         0  unknown  no  \n",
       "6  unknown    5   may       217         1     -1         0  unknown  no  \n",
       "7  unknown    5   may       380         1     -1         0  unknown  no  \n",
       "8  unknown    5   may        50         1     -1         0  unknown  no  \n",
       "9  unknown    5   may        55         1     -1         0  unknown  no  "
      ]
     },
     "execution_count": 6,
     "metadata": {},
     "output_type": "execute_result"
    }
   ],
   "source": [
    "# checking the first few rows of the dataset\n",
    "df.head(10)"
   ]
  },
  {
   "cell_type": "code",
   "execution_count": 7,
   "id": "4807a4d1",
   "metadata": {},
   "outputs": [
    {
     "name": "stdout",
     "output_type": "stream",
     "text": [
      "age           int64\n",
      "job          object\n",
      "marital      object\n",
      "education    object\n",
      "default      object\n",
      "balance       int64\n",
      "housing      object\n",
      "loan         object\n",
      "contact      object\n",
      "day           int64\n",
      "month        object\n",
      "duration      int64\n",
      "campaign      int64\n",
      "pdays         int64\n",
      "previous      int64\n",
      "poutcome     object\n",
      "y            object\n",
      "dtype: object\n"
     ]
    }
   ],
   "source": [
    "# checking the datatypes of all columns\n",
    "print(df.dtypes)"
   ]
  },
  {
   "cell_type": "code",
   "execution_count": 8,
   "id": "7981f2ef",
   "metadata": {},
   "outputs": [
    {
     "data": {
      "text/plain": [
       "age          0\n",
       "job          0\n",
       "marital      0\n",
       "education    0\n",
       "default      0\n",
       "balance      0\n",
       "housing      0\n",
       "loan         0\n",
       "contact      0\n",
       "day          0\n",
       "month        0\n",
       "duration     0\n",
       "campaign     0\n",
       "pdays        0\n",
       "previous     0\n",
       "poutcome     0\n",
       "y            0\n",
       "dtype: int64"
      ]
     },
     "execution_count": 8,
     "metadata": {},
     "output_type": "execute_result"
    }
   ],
   "source": [
    "# checking for null values in all columns \n",
    "df.isnull().sum()"
   ]
  },
  {
   "cell_type": "code",
   "execution_count": 9,
   "id": "eaafac03",
   "metadata": {},
   "outputs": [
    {
     "name": "stdout",
     "output_type": "stream",
     "text": [
      "age 77 unique values\n",
      "[58 44 33 47 35 28 42 43 41 29 53 57 51 45 60 56 32 25 40 39 52 46 36 49\n",
      " 59 37 50 54 55 48 24 38 31 30 27 34 23 26 61 22 21 20 66 62 83 75 67 70\n",
      " 65 68 64 69 72 71 19 76 85 63 90 82 73 74 78 80 94 79 77 86 95 81 18 89\n",
      " 84 87 92 93 88]\n",
      "job 12 unique values\n",
      "['management' 'technician' 'entrepreneur' 'blue-collar' 'unknown'\n",
      " 'retired' 'admin.' 'services' 'self-employed' 'unemployed' 'housemaid'\n",
      " 'student']\n",
      "marital 3 unique values\n",
      "['married' 'single' 'divorced']\n",
      "education 4 unique values\n",
      "['tertiary' 'secondary' 'unknown' 'primary']\n",
      "default 2 unique values\n",
      "['no' 'yes']\n",
      "balance 7168 unique values\n",
      "[ 2143    29     2 ...  8205 14204 16353]\n",
      "housing 2 unique values\n",
      "['yes' 'no']\n",
      "loan 2 unique values\n",
      "['no' 'yes']\n",
      "contact 3 unique values\n",
      "['unknown' 'cellular' 'telephone']\n",
      "day 31 unique values\n",
      "[ 5  6  7  8  9 12 13 14 15 16 19 20 21 23 26 27 28 29 30  2  3  4 11 17\n",
      " 18 24 25  1 10 22 31]\n",
      "month 12 unique values\n",
      "['may' 'jun' 'jul' 'aug' 'oct' 'nov' 'dec' 'jan' 'feb' 'mar' 'apr' 'sep']\n",
      "duration 1573 unique values\n",
      "[ 261  151   76 ... 1298 1246 1556]\n",
      "campaign 48 unique values\n",
      "[ 1  2  3  5  4  6  7  8  9 10 11 12 13 19 14 24 16 32 18 22 15 17 25 21\n",
      " 43 51 63 41 26 28 55 50 38 23 20 29 31 37 30 46 27 58 33 35 34 36 39 44]\n",
      "pdays 559 unique values\n",
      "[ -1 151 166  91  86 143 147  89 140 176 101 174 170 167 195 165 129 188\n",
      " 196 172 118 119 104 171 117 164 132 131 123 159 186 111 115 116 173 178\n",
      " 110 152  96 103 150 175 193 181 185 154 145 138 126 180 109 158 168  97\n",
      " 182 127 130 194 125 105 102  26 179  28 183 155 112 120 137 124 187 190\n",
      " 113 162 134 169 189   8 144 191 184 177   5  99 133  93  92  10 100 156\n",
      " 198 106 153 146 128   7 121 160 107  90  27 197 136 139 122 157 149 135\n",
      "  30 114  98 192 163  34  95 141  31 199  94 108  29 268 247 253 226 244\n",
      " 239 245 204 231 238 258 230 254 265  71 223 246 250 266 240 205 261 259\n",
      " 241 260 234 251 225 161 237 262 248 255 220 227 206 224 249 235 228 263\n",
      "   2 270 232 252 207 200 269 233 256 273 272 242 264 208 214 222 271 203\n",
      " 221 202 216 201 257 229 210 217  75 213  73  76 267 211 215  77 236  82\n",
      "   6 209 274   1 243 212 275  80 276   9 279  12 280  88 277  85  84 219\n",
      "  24  21 282  41 294  49 329 307 303 331 308 300  64 314 287 330 332 302\n",
      " 323 318 333  60 326 335 313 312 305 325 327 336 309 328 322  39 316 292\n",
      " 295 310 306 320 317 289  57 321 142 339 301 315 337 334 340 319  17  74\n",
      " 148 341 299 344 342 324 345 346 304 281 343 338  14 347  15 291 348 349\n",
      " 285 350 284  25 283 278  81   4  87  83  79  70  13 293  37  78  63  22\n",
      " 296 355  66  19  35 360 357 354 351 362 358 365 298 286 364 363  47 361\n",
      " 288 366 356 352 359 297 367 353 368  42 290  67 371 370 369  50  36 373\n",
      " 374 372 311 375 378  59 379  40  18  43  20  69  38 385  56  55  44 391\n",
      "  72 390  32  62 399 393  65 377 395 388 389 386  61 412 405 434 394 382\n",
      " 459 440 397 383  68 461 462 463 422  51 457 430 442 403 454 428 392 410\n",
      " 401 474 475 477 478  54 476 380 479  45  46 495  58  48 518  52 515 520\n",
      " 511 536 387 218  33 544 435 436 555 433 446 558 469 616 561 553 384 592\n",
      " 467 585 480 421 667 626 426 595 381 376 648 521 452 449 633 398  53 460\n",
      " 670 551 414 557 687 404 651 686 425 504 578 674 416 586 411 756 450 745\n",
      " 514 417 424 776 396 683 529 439 415 456 407 458 532 481 791 701 531 792\n",
      " 413 445 535 784 419 455 491 431 542 470 472 717 437   3 782 728 828 524\n",
      " 562 761 492 775 579 493 464 760 466 465 656 831 490 432 655 427 749 838\n",
      " 769 587 778 854 779 850 771 594 842 589 603 484 489 486 409 444 680 808\n",
      " 485 503 690 772 774 526 420 528 500 826 804 508 547 805 541 543 871 550\n",
      " 530]\n",
      "previous 41 unique values\n",
      "[  0   3   1   4   2  11  16   6   5  10  12   7  18   9  21   8  14  15\n",
      "  26  37  13  25  20  27  17  23  38  29  24  51 275  22  19  30  58  28\n",
      "  32  40  55  35  41]\n",
      "poutcome 4 unique values\n",
      "['unknown' 'failure' 'other' 'success']\n",
      "y 2 unique values\n",
      "['no' 'yes']\n"
     ]
    }
   ],
   "source": [
    "# finding the unique values and how many unique values are there for each column of the dataframe\n",
    "\n",
    "for col in df:\n",
    "  print(col, df[col].nunique(),\"unique values\")\n",
    "  print(df[col].unique())"
   ]
  },
  {
   "cell_type": "code",
   "execution_count": 10,
   "id": "78025e6d",
   "metadata": {},
   "outputs": [
    {
     "name": "stdout",
     "output_type": "stream",
     "text": [
      "False    45211\n",
      "dtype: int64\n"
     ]
    },
    {
     "data": {
      "text/plain": [
       "(45211, 17)"
      ]
     },
     "execution_count": 10,
     "metadata": {},
     "output_type": "execute_result"
    }
   ],
   "source": [
    "#checking for duplicated rows and removing those\n",
    "\n",
    "print(df.duplicated().value_counts())\n",
    "df.drop_duplicates (inplace = True)\n",
    "df.shape"
   ]
  },
  {
   "cell_type": "code",
   "execution_count": 11,
   "id": "e619773d",
   "metadata": {},
   "outputs": [
    {
     "data": {
      "text/plain": [
       "(45184, 17)"
      ]
     },
     "execution_count": 11,
     "metadata": {},
     "output_type": "execute_result"
    }
   ],
   "source": [
    "# removing rows with telephone call less than 5 seconds\n",
    "\n",
    "condition2 = (df['duration']<5)\n",
    "df1 = df.drop(df[condition2].index, axis = 0, inplace = False)\n",
    "df1.shape"
   ]
  },
  {
   "cell_type": "code",
   "execution_count": 12,
   "id": "155d8c26",
   "metadata": {},
   "outputs": [
    {
     "data": {
      "text/plain": [
       "Index(['age', 'job', 'marital', 'education', 'credit_default', 'acc_balance',\n",
       "       'housing_loan', 'personal_loan', 'contact_method', 'day', 'month',\n",
       "       'duration', 'campaign', 'pdays', 'previous', 'poutcome',\n",
       "       'campaign_outcome'],\n",
       "      dtype='object')"
      ]
     },
     "execution_count": 12,
     "metadata": {},
     "output_type": "execute_result"
    }
   ],
   "source": [
    "#rename the output column as \"outcome\"\n",
    "\n",
    "df1.rename(columns = {'y':'campaign_outcome', 'default':'credit_default', 'balance':'acc_balance', 'housing':'housing_loan','loan':'personal_loan','contact':'contact_method'}, inplace = True)\n",
    "\n",
    "df1.columns"
   ]
  },
  {
   "cell_type": "markdown",
   "id": "e0ed3e35",
   "metadata": {},
   "source": [
    "## Exploratory Data Analysis"
   ]
  },
  {
   "cell_type": "markdown",
   "id": "ede18293",
   "metadata": {},
   "source": [
    "### For numerical data"
   ]
  },
  {
   "cell_type": "code",
   "execution_count": 13,
   "id": "95c98c61",
   "metadata": {},
   "outputs": [
    {
     "data": {
      "image/png": "[encoded data removed]",
      "text/plain": [
       "<Figure size 360x360 with 1 Axes>"
      ]
     },
     "metadata": {
      "needs_background": "light"
     },
     "output_type": "display_data"
    },
    {
     "data": {
      "image/png": "[encoded data removed]",
      "text/plain": [
       "<Figure size 360x360 with 1 Axes>"
      ]
     },
     "metadata": {
      "needs_background": "light"
     },
     "output_type": "display_data"
    },
    {
     "data": {
      "image/png": "[encoded data removed]",
      "text/plain": [
       "<Figure size 360x360 with 1 Axes>"
      ]
     },
     "metadata": {
      "needs_background": "light"
     },
     "output_type": "display_data"
    },
    {
     "data": {
      "image/png": "[encoded data removed]",
      "text/plain": [
       "<Figure size 360x360 with 1 Axes>"
      ]
     },
     "metadata": {
      "needs_background": "light"
     },
     "output_type": "display_data"
    },
    {
     "data": {
      "image/png": "[encoded data removed]",
      "text/plain": [
       "<Figure size 360x360 with 1 Axes>"
      ]
     },
     "metadata": {
      "needs_background": "light"
     },
     "output_type": "display_data"
    }
   ],
   "source": [
    "# checking skewness of numerical variables with box plots \n",
    "num_var = [\"age\", \"duration\",\"campaign\", \"pdays\", \"previous\"]\n",
    "\n",
    "for i in num_var:\n",
    "  plt.figure(figsize = (5,5))\n",
    "  sns.boxplot(x = i,y = df1['campaign_outcome'] ,data = df)\n",
    "  plt.show();"
   ]
  },
  {
   "cell_type": "code",
   "execution_count": 14,
   "id": "0c3eb90d",
   "metadata": {},
   "outputs": [
    {
     "data": {
      "image/png": "[encoded data removed]",
      "text/plain": [
       "<Figure size 576x288 with 1 Axes>"
      ]
     },
     "metadata": {
      "needs_background": "light"
     },
     "output_type": "display_data"
    },
    {
     "data": {
      "image/png": "[encoded data removed]",
      "text/plain": [
       "<Figure size 576x288 with 1 Axes>"
      ]
     },
     "metadata": {
      "needs_background": "light"
     },
     "output_type": "display_data"
    },
    {
     "data": {
      "image/png": "[encoded data removed]",
      "text/plain": [
       "<Figure size 576x288 with 1 Axes>"
      ]
     },
     "metadata": {
      "needs_background": "light"
     },
     "output_type": "display_data"
    },
    {
     "data": {
      "image/png": "[encoded data removed]",
      "text/plain": [
       "<Figure size 576x288 with 1 Axes>"
      ]
     },
     "metadata": {
      "needs_background": "light"
     },
     "output_type": "display_data"
    },
    {
     "data": {
      "image/png": "[encoded data removed]",
      "text/plain": [
       "<Figure size 576x288 with 1 Axes>"
      ]
     },
     "metadata": {
      "needs_background": "light"
     },
     "output_type": "display_data"
    }
   ],
   "source": [
    "for column in num_var:\n",
    "    plt.figure(figsize=(8,4))\n",
    "    plt.subplot(121)\n",
    "    sns.distplot(df1[column])\n",
    "    plt.title(column)"
   ]
  },
  {
   "cell_type": "markdown",
   "id": "b2db22a4",
   "metadata": {},
   "source": [
    "Age and call duration was positively skewed, possibly indicating a presence of outliers. This was discovered through the box plots and distribution plots above.\n",
    "\n",
    "Similarly, the number of calls made during the campaign and number of calls made to same customer for previous campaigns were also positively skewed. Some of these skewed features were transformed using logarithmic transformation to reduce their skewness values and correct their distribution."
   ]
  },
  {
   "cell_type": "code",
   "execution_count": 15,
   "id": "34aa6a77",
   "metadata": {},
   "outputs": [
    {
     "data": {
      "image/png": "[encoded data removed]",
      "text/plain": [
       "<Figure size 720x720 with 2 Axes>"
      ]
     },
     "metadata": {
      "needs_background": "light"
     },
     "output_type": "display_data"
    }
   ],
   "source": [
    "#finding the correlation among the variables\n",
    "\n",
    "plt.figure(figsize = (10,10))\n",
    "sns.heatmap(df1.corr(),annot=True,cmap='RdYlGn', center = 0)\n",
    "plt.show()"
   ]
  },
  {
   "cell_type": "markdown",
   "id": "3a468d4c",
   "metadata": {},
   "source": [
    "No issues of multicollinearity as per the heat map above. "
   ]
  },
  {
   "cell_type": "code",
   "execution_count": 16,
   "id": "85464d9e",
   "metadata": {},
   "outputs": [
    {
     "data": {
      "text/html": [
       "<div>\n",
       "<style scoped>\n",
       "    .dataframe tbody tr th:only-of-type {\n",
       "        vertical-align: middle;\n",
       "    }\n",
       "\n",
       "    .dataframe tbody tr th {\n",
       "        vertical-align: top;\n",
       "    }\n",
       "\n",
       "    .dataframe thead th {\n",
       "        text-align: right;\n",
       "    }\n",
       "</style>\n",
       "<table border=\"1\" class=\"dataframe\">\n",
       "  <thead>\n",
       "    <tr style=\"text-align: right;\">\n",
       "      <th></th>\n",
       "      <th>age</th>\n",
       "      <th>acc_balance</th>\n",
       "      <th>day</th>\n",
       "      <th>duration</th>\n",
       "      <th>campaign</th>\n",
       "      <th>pdays</th>\n",
       "      <th>previous</th>\n",
       "    </tr>\n",
       "  </thead>\n",
       "  <tbody>\n",
       "    <tr>\n",
       "      <th>count</th>\n",
       "      <td>45184.000000</td>\n",
       "      <td>45184.000000</td>\n",
       "      <td>45184.000000</td>\n",
       "      <td>45184.000000</td>\n",
       "      <td>45184.000000</td>\n",
       "      <td>45184.000000</td>\n",
       "      <td>45184.000000</td>\n",
       "    </tr>\n",
       "    <tr>\n",
       "      <th>mean</th>\n",
       "      <td>40.939735</td>\n",
       "      <td>1362.399279</td>\n",
       "      <td>15.806325</td>\n",
       "      <td>258.315576</td>\n",
       "      <td>2.763810</td>\n",
       "      <td>40.191262</td>\n",
       "      <td>0.580493</td>\n",
       "    </tr>\n",
       "    <tr>\n",
       "      <th>std</th>\n",
       "      <td>10.618568</td>\n",
       "      <td>3044.558633</td>\n",
       "      <td>8.322471</td>\n",
       "      <td>257.529150</td>\n",
       "      <td>3.097138</td>\n",
       "      <td>100.077234</td>\n",
       "      <td>2.304015</td>\n",
       "    </tr>\n",
       "    <tr>\n",
       "      <th>min</th>\n",
       "      <td>18.000000</td>\n",
       "      <td>-8019.000000</td>\n",
       "      <td>1.000000</td>\n",
       "      <td>5.000000</td>\n",
       "      <td>1.000000</td>\n",
       "      <td>-1.000000</td>\n",
       "      <td>0.000000</td>\n",
       "    </tr>\n",
       "    <tr>\n",
       "      <th>25%</th>\n",
       "      <td>33.000000</td>\n",
       "      <td>72.000000</td>\n",
       "      <td>8.000000</td>\n",
       "      <td>103.000000</td>\n",
       "      <td>1.000000</td>\n",
       "      <td>-1.000000</td>\n",
       "      <td>0.000000</td>\n",
       "    </tr>\n",
       "    <tr>\n",
       "      <th>50%</th>\n",
       "      <td>39.000000</td>\n",
       "      <td>449.000000</td>\n",
       "      <td>16.000000</td>\n",
       "      <td>180.000000</td>\n",
       "      <td>2.000000</td>\n",
       "      <td>-1.000000</td>\n",
       "      <td>0.000000</td>\n",
       "    </tr>\n",
       "    <tr>\n",
       "      <th>75%</th>\n",
       "      <td>48.000000</td>\n",
       "      <td>1428.000000</td>\n",
       "      <td>21.000000</td>\n",
       "      <td>319.000000</td>\n",
       "      <td>3.000000</td>\n",
       "      <td>-1.000000</td>\n",
       "      <td>0.000000</td>\n",
       "    </tr>\n",
       "    <tr>\n",
       "      <th>max</th>\n",
       "      <td>95.000000</td>\n",
       "      <td>102127.000000</td>\n",
       "      <td>31.000000</td>\n",
       "      <td>4918.000000</td>\n",
       "      <td>63.000000</td>\n",
       "      <td>871.000000</td>\n",
       "      <td>275.000000</td>\n",
       "    </tr>\n",
       "  </tbody>\n",
       "</table>\n",
       "</div>"
      ],
      "text/plain": [
       "                age    acc_balance           day      duration      campaign  \\\n",
       "count  45184.000000   45184.000000  45184.000000  45184.000000  45184.000000   \n",
       "mean      40.939735    1362.399279     15.806325    258.315576      2.763810   \n",
       "std       10.618568    3044.558633      8.322471    257.529150      3.097138   \n",
       "min       18.000000   -8019.000000      1.000000      5.000000      1.000000   \n",
       "25%       33.000000      72.000000      8.000000    103.000000      1.000000   \n",
       "50%       39.000000     449.000000     16.000000    180.000000      2.000000   \n",
       "75%       48.000000    1428.000000     21.000000    319.000000      3.000000   \n",
       "max       95.000000  102127.000000     31.000000   4918.000000     63.000000   \n",
       "\n",
       "              pdays      previous  \n",
       "count  45184.000000  45184.000000  \n",
       "mean      40.191262      0.580493  \n",
       "std      100.077234      2.304015  \n",
       "min       -1.000000      0.000000  \n",
       "25%       -1.000000      0.000000  \n",
       "50%       -1.000000      0.000000  \n",
       "75%       -1.000000      0.000000  \n",
       "max      871.000000    275.000000  "
      ]
     },
     "execution_count": 16,
     "metadata": {},
     "output_type": "execute_result"
    }
   ],
   "source": [
    "# checking some statistics namely; count, mean, sd, quartiles, min and max\n",
    "df1.describe()"
   ]
  },
  {
   "cell_type": "markdown",
   "id": "49c3d960",
   "metadata": {},
   "source": [
    "### For categorical data"
   ]
  },
  {
   "cell_type": "code",
   "execution_count": 17,
   "id": "8e684088",
   "metadata": {},
   "outputs": [
    {
     "name": "stdout",
     "output_type": "stream",
     "text": [
      "job 11 unique values\n",
      "['management' 'technician' 'entrepreneur' 'blue-collar' 'retired' 'admin.'\n",
      " 'services' 'self-employed' 'unemployed' 'housemaid' 'student']\n",
      "contact_method 2 unique values\n",
      "['cellular' 'telephone']\n",
      "education 3 unique values\n",
      "['tertiary' 'secondary' 'primary']\n",
      "poutcome 4 unique values\n",
      "['unknown' 'failure' 'other' 'success']\n"
     ]
    }
   ],
   "source": [
    "#replace \"unknown\" values\n",
    "\n",
    "col_with_unknown = ['job','contact_method', 'education','poutcome']\n",
    "\n",
    "for column in col_with_unknown:\n",
    "    mode = df1[column].mode()[0]\n",
    "    df1[column] = df1[column].replace('unknown', mode)\n",
    "\n",
    "for col in col_with_unknown:\n",
    "    print(col, df1[col].nunique(),\"unique values\")\n",
    "    print(df1[col].unique())"
   ]
  },
  {
   "cell_type": "code",
   "execution_count": 18,
   "id": "ade73382",
   "metadata": {},
   "outputs": [
    {
     "name": "stdout",
     "output_type": "stream",
     "text": [
      "unknown    36935\n",
      "failure     4901\n",
      "other       1839\n",
      "success     1509\n",
      "Name: poutcome, dtype: int64\n"
     ]
    }
   ],
   "source": [
    "#as output above still showed \"unknown\" for contact_method, find the mode seperately\n",
    "\n",
    "print(df1['poutcome'].value_counts())"
   ]
  },
  {
   "cell_type": "code",
   "execution_count": 19,
   "id": "273e82e4",
   "metadata": {},
   "outputs": [
    {
     "name": "stdout",
     "output_type": "stream",
     "text": [
      "unknown    38774\n",
      "failure     4901\n",
      "success     1509\n",
      "Name: poutcome, dtype: int64\n"
     ]
    }
   ],
   "source": [
    "df1['poutcome'] = df1['poutcome'].replace('other', 'unknown')\n",
    "print(df1['poutcome'].value_counts())"
   ]
  },
  {
   "cell_type": "code",
   "execution_count": 20,
   "id": "d6f5dfba",
   "metadata": {},
   "outputs": [
    {
     "data": {
      "image/png": "[encoded data removed]",
      "text/plain": [
       "<Figure size 432x288 with 1 Axes>"
      ]
     },
     "metadata": {
      "needs_background": "light"
     },
     "output_type": "display_data"
    },
    {
     "data": {
      "image/png": "[encoded data removed]",
      "text/plain": [
       "<Figure size 432x288 with 1 Axes>"
      ]
     },
     "metadata": {
      "needs_background": "light"
     },
     "output_type": "display_data"
    },
    {
     "data": {
      "image/png": "[encoded data removed]",
      "text/plain": [
       "<Figure size 432x288 with 1 Axes>"
      ]
     },
     "metadata": {
      "needs_background": "light"
     },
     "output_type": "display_data"
    },
    {
     "data": {
      "image/png": "[encoded data removed]",
      "text/plain": [
       "<Figure size 432x288 with 1 Axes>"
      ]
     },
     "metadata": {
      "needs_background": "light"
     },
     "output_type": "display_data"
    },
    {
     "data": {
      "image/png": "[encoded data removed]",
      "text/plain": [
       "<Figure size 432x288 with 1 Axes>"
      ]
     },
     "metadata": {
      "needs_background": "light"
     },
     "output_type": "display_data"
    },
    {
     "data": {
      "image/png": "[encoded data removed]",
      "text/plain": [
       "<Figure size 432x288 with 1 Axes>"
      ]
     },
     "metadata": {
      "needs_background": "light"
     },
     "output_type": "display_data"
    },
    {
     "data": {
      "image/png": "[encoded data removed]",
      "text/plain": [
       "<Figure size 432x288 with 1 Axes>"
      ]
     },
     "metadata": {
      "needs_background": "light"
     },
     "output_type": "display_data"
    },
    {
     "data": {
      "image/png": "[encoded data removed]",
      "text/plain": [
       "<Figure size 432x288 with 1 Axes>"
      ]
     },
     "metadata": {
      "needs_background": "light"
     },
     "output_type": "display_data"
    },
    {
     "data": {
      "image/png": "[encoded data removed]",
      "text/plain": [
       "<Figure size 432x288 with 1 Axes>"
      ]
     },
     "metadata": {
      "needs_background": "light"
     },
     "output_type": "display_data"
    },
    {
     "data": {
      "image/png": "[encoded data removed]",
      "text/plain": [
       "<Figure size 432x288 with 1 Axes>"
      ]
     },
     "metadata": {
      "needs_background": "light"
     },
     "output_type": "display_data"
    }
   ],
   "source": [
    "#Exploratory Data Analysis for categorical variable\n",
    "\n",
    "cat_var =  df1.select_dtypes(include=['object']).columns\n",
    "\n",
    "for c in cat_var:\n",
    "    \n",
    "    ax = sns.countplot(x=c, hue='campaign_outcome', data=df1)\n",
    "    ax.set_xticklabels(ax.get_xticklabels(),rotation = 70)\n",
    "    \n",
    "    plt.show()"
   ]
  },
  {
   "cell_type": "markdown",
   "id": "e9046728",
   "metadata": {},
   "source": [
    "customers with ‘blue-collar’ jobs were contacted the most but ‘management’ jobs bought the long-term deposit marketed the most than other jobs. From graphs plotted similarly, it was found that customers who do blue-collar jobs, are married, with secondary education, with no credit defaults, who use cell phones, are contacted the most and the mostly bought the long-term deposit that was marketed. Customers having housing loans, but no personal loans were contacted the most. However, customers who had no housing loan, nor personal loans bought the long-term deposit marketed the most. Customers were mostly contacted in the month of May, and whose previous campaign outcomes were unknown. Customers were least contacted on the months of September, December and March."
   ]
  },
  {
   "cell_type": "markdown",
   "id": "f811bee7",
   "metadata": {},
   "source": [
    "## Data Transformation"
   ]
  },
  {
   "cell_type": "code",
   "execution_count": 21,
   "id": "23bdd825",
   "metadata": {},
   "outputs": [
    {
     "name": "stdout",
     "output_type": "stream",
     "text": [
      "Age 0.684854667719001 0.09897518818612128\n",
      "duration 3.1449531671884934 -0.46758876936523613\n"
     ]
    }
   ],
   "source": [
    "# using logarithmic transformation to reduce skewness of skewed variables \n",
    "\n",
    "col_with_outliers = ['age','duration']\n",
    "    \n",
    "df1['log_of_age'] = df1['age'].map(lambda i: np.log(i) if i > 0 else 0) \n",
    "print('Age', df1['age'].skew(), df1['log_of_age'].skew())\n",
    "\n",
    "df1['log_of_duration'] = df1['duration'].map(lambda i: np.log(i) if i > 0 else 0) \n",
    "print('duration', df1['duration'].skew(), df1['log_of_duration'].skew())"
   ]
  },
  {
   "cell_type": "code",
   "execution_count": 22,
   "id": "e84b6b24",
   "metadata": {},
   "outputs": [
    {
     "name": "stdout",
     "output_type": "stream",
     "text": [
      "                job   marital  education credit_default  acc_balance  \\\n",
      "0        management   married   tertiary             no         2143   \n",
      "1        technician    single  secondary             no           29   \n",
      "2      entrepreneur   married  secondary             no            2   \n",
      "3       blue-collar   married  secondary             no         1506   \n",
      "4       blue-collar    single  secondary             no            1   \n",
      "...             ...       ...        ...            ...          ...   \n",
      "45206    technician   married   tertiary             no          825   \n",
      "45207       retired  divorced    primary             no         1729   \n",
      "45208       retired   married  secondary             no         5715   \n",
      "45209   blue-collar   married  secondary             no          668   \n",
      "45210  entrepreneur   married  secondary             no         2971   \n",
      "\n",
      "      housing_loan personal_loan contact_method  day month  campaign  pdays  \\\n",
      "0              yes            no       cellular    5   may         1     -1   \n",
      "1              yes            no       cellular    5   may         1     -1   \n",
      "2              yes           yes       cellular    5   may         1     -1   \n",
      "3              yes            no       cellular    5   may         1     -1   \n",
      "4               no            no       cellular    5   may         1     -1   \n",
      "...            ...           ...            ...  ...   ...       ...    ...   \n",
      "45206           no            no       cellular   17   nov         3     -1   \n",
      "45207           no            no       cellular   17   nov         2     -1   \n",
      "45208           no            no       cellular   17   nov         5    184   \n",
      "45209           no            no      telephone   17   nov         4     -1   \n",
      "45210           no            no       cellular   17   nov         2    188   \n",
      "\n",
      "       previous poutcome campaign_outcome  log_of_age  log_of_duration  \n",
      "0             0  unknown               no    4.060443         5.564520  \n",
      "1             0  unknown               no    3.784190         5.017280  \n",
      "2             0  unknown               no    3.496508         4.330733  \n",
      "3             0  unknown               no    3.850148         4.521789  \n",
      "4             0  unknown               no    3.496508         5.288267  \n",
      "...         ...      ...              ...         ...              ...  \n",
      "45206         0  unknown              yes    3.931826         6.884487  \n",
      "45207         0  unknown              yes    4.262680         6.122493  \n",
      "45208         3  success              yes    4.276666         7.027315  \n",
      "45209         0  unknown               no    4.043051         6.230481  \n",
      "45210        11  unknown               no    3.610918         5.888878  \n",
      "\n",
      "[45184 rows x 17 columns]\n"
     ]
    }
   ],
   "source": [
    "#delete columns\n",
    "df2 = df1.drop(['age', 'duration'], axis=1)\n",
    "\n",
    "print(df2)"
   ]
  },
  {
   "cell_type": "code",
   "execution_count": 23,
   "id": "70537b3d",
   "metadata": {},
   "outputs": [
    {
     "data": {
      "text/html": [
       "<div>\n",
       "<style scoped>\n",
       "    .dataframe tbody tr th:only-of-type {\n",
       "        vertical-align: middle;\n",
       "    }\n",
       "\n",
       "    .dataframe tbody tr th {\n",
       "        vertical-align: top;\n",
       "    }\n",
       "\n",
       "    .dataframe thead th {\n",
       "        text-align: right;\n",
       "    }\n",
       "</style>\n",
       "<table border=\"1\" class=\"dataframe\">\n",
       "  <thead>\n",
       "    <tr style=\"text-align: right;\">\n",
       "      <th></th>\n",
       "      <th>log_of_age</th>\n",
       "      <th>job</th>\n",
       "      <th>marital</th>\n",
       "      <th>education</th>\n",
       "      <th>credit_default</th>\n",
       "      <th>acc_balance</th>\n",
       "      <th>housing_loan</th>\n",
       "      <th>personal_loan</th>\n",
       "      <th>contact_method</th>\n",
       "      <th>month</th>\n",
       "      <th>day</th>\n",
       "      <th>log_of_duration</th>\n",
       "      <th>campaign</th>\n",
       "      <th>pdays</th>\n",
       "      <th>previous</th>\n",
       "      <th>poutcome</th>\n",
       "      <th>campaign_outcome</th>\n",
       "    </tr>\n",
       "  </thead>\n",
       "  <tbody>\n",
       "    <tr>\n",
       "      <th>0</th>\n",
       "      <td>4.060443</td>\n",
       "      <td>management</td>\n",
       "      <td>married</td>\n",
       "      <td>tertiary</td>\n",
       "      <td>no</td>\n",
       "      <td>2143</td>\n",
       "      <td>yes</td>\n",
       "      <td>no</td>\n",
       "      <td>cellular</td>\n",
       "      <td>may</td>\n",
       "      <td>5</td>\n",
       "      <td>5.564520</td>\n",
       "      <td>1</td>\n",
       "      <td>-1</td>\n",
       "      <td>0</td>\n",
       "      <td>unknown</td>\n",
       "      <td>no</td>\n",
       "    </tr>\n",
       "    <tr>\n",
       "      <th>1</th>\n",
       "      <td>3.784190</td>\n",
       "      <td>technician</td>\n",
       "      <td>single</td>\n",
       "      <td>secondary</td>\n",
       "      <td>no</td>\n",
       "      <td>29</td>\n",
       "      <td>yes</td>\n",
       "      <td>no</td>\n",
       "      <td>cellular</td>\n",
       "      <td>may</td>\n",
       "      <td>5</td>\n",
       "      <td>5.017280</td>\n",
       "      <td>1</td>\n",
       "      <td>-1</td>\n",
       "      <td>0</td>\n",
       "      <td>unknown</td>\n",
       "      <td>no</td>\n",
       "    </tr>\n",
       "    <tr>\n",
       "      <th>2</th>\n",
       "      <td>3.496508</td>\n",
       "      <td>entrepreneur</td>\n",
       "      <td>married</td>\n",
       "      <td>secondary</td>\n",
       "      <td>no</td>\n",
       "      <td>2</td>\n",
       "      <td>yes</td>\n",
       "      <td>yes</td>\n",
       "      <td>cellular</td>\n",
       "      <td>may</td>\n",
       "      <td>5</td>\n",
       "      <td>4.330733</td>\n",
       "      <td>1</td>\n",
       "      <td>-1</td>\n",
       "      <td>0</td>\n",
       "      <td>unknown</td>\n",
       "      <td>no</td>\n",
       "    </tr>\n",
       "    <tr>\n",
       "      <th>3</th>\n",
       "      <td>3.850148</td>\n",
       "      <td>blue-collar</td>\n",
       "      <td>married</td>\n",
       "      <td>secondary</td>\n",
       "      <td>no</td>\n",
       "      <td>1506</td>\n",
       "      <td>yes</td>\n",
       "      <td>no</td>\n",
       "      <td>cellular</td>\n",
       "      <td>may</td>\n",
       "      <td>5</td>\n",
       "      <td>4.521789</td>\n",
       "      <td>1</td>\n",
       "      <td>-1</td>\n",
       "      <td>0</td>\n",
       "      <td>unknown</td>\n",
       "      <td>no</td>\n",
       "    </tr>\n",
       "    <tr>\n",
       "      <th>4</th>\n",
       "      <td>3.496508</td>\n",
       "      <td>blue-collar</td>\n",
       "      <td>single</td>\n",
       "      <td>secondary</td>\n",
       "      <td>no</td>\n",
       "      <td>1</td>\n",
       "      <td>no</td>\n",
       "      <td>no</td>\n",
       "      <td>cellular</td>\n",
       "      <td>may</td>\n",
       "      <td>5</td>\n",
       "      <td>5.288267</td>\n",
       "      <td>1</td>\n",
       "      <td>-1</td>\n",
       "      <td>0</td>\n",
       "      <td>unknown</td>\n",
       "      <td>no</td>\n",
       "    </tr>\n",
       "    <tr>\n",
       "      <th>...</th>\n",
       "      <td>...</td>\n",
       "      <td>...</td>\n",
       "      <td>...</td>\n",
       "      <td>...</td>\n",
       "      <td>...</td>\n",
       "      <td>...</td>\n",
       "      <td>...</td>\n",
       "      <td>...</td>\n",
       "      <td>...</td>\n",
       "      <td>...</td>\n",
       "      <td>...</td>\n",
       "      <td>...</td>\n",
       "      <td>...</td>\n",
       "      <td>...</td>\n",
       "      <td>...</td>\n",
       "      <td>...</td>\n",
       "      <td>...</td>\n",
       "    </tr>\n",
       "    <tr>\n",
       "      <th>45206</th>\n",
       "      <td>3.931826</td>\n",
       "      <td>technician</td>\n",
       "      <td>married</td>\n",
       "      <td>tertiary</td>\n",
       "      <td>no</td>\n",
       "      <td>825</td>\n",
       "      <td>no</td>\n",
       "      <td>no</td>\n",
       "      <td>cellular</td>\n",
       "      <td>nov</td>\n",
       "      <td>17</td>\n",
       "      <td>6.884487</td>\n",
       "      <td>3</td>\n",
       "      <td>-1</td>\n",
       "      <td>0</td>\n",
       "      <td>unknown</td>\n",
       "      <td>yes</td>\n",
       "    </tr>\n",
       "    <tr>\n",
       "      <th>45207</th>\n",
       "      <td>4.262680</td>\n",
       "      <td>retired</td>\n",
       "      <td>divorced</td>\n",
       "      <td>primary</td>\n",
       "      <td>no</td>\n",
       "      <td>1729</td>\n",
       "      <td>no</td>\n",
       "      <td>no</td>\n",
       "      <td>cellular</td>\n",
       "      <td>nov</td>\n",
       "      <td>17</td>\n",
       "      <td>6.122493</td>\n",
       "      <td>2</td>\n",
       "      <td>-1</td>\n",
       "      <td>0</td>\n",
       "      <td>unknown</td>\n",
       "      <td>yes</td>\n",
       "    </tr>\n",
       "    <tr>\n",
       "      <th>45208</th>\n",
       "      <td>4.276666</td>\n",
       "      <td>retired</td>\n",
       "      <td>married</td>\n",
       "      <td>secondary</td>\n",
       "      <td>no</td>\n",
       "      <td>5715</td>\n",
       "      <td>no</td>\n",
       "      <td>no</td>\n",
       "      <td>cellular</td>\n",
       "      <td>nov</td>\n",
       "      <td>17</td>\n",
       "      <td>7.027315</td>\n",
       "      <td>5</td>\n",
       "      <td>184</td>\n",
       "      <td>3</td>\n",
       "      <td>success</td>\n",
       "      <td>yes</td>\n",
       "    </tr>\n",
       "    <tr>\n",
       "      <th>45209</th>\n",
       "      <td>4.043051</td>\n",
       "      <td>blue-collar</td>\n",
       "      <td>married</td>\n",
       "      <td>secondary</td>\n",
       "      <td>no</td>\n",
       "      <td>668</td>\n",
       "      <td>no</td>\n",
       "      <td>no</td>\n",
       "      <td>telephone</td>\n",
       "      <td>nov</td>\n",
       "      <td>17</td>\n",
       "      <td>6.230481</td>\n",
       "      <td>4</td>\n",
       "      <td>-1</td>\n",
       "      <td>0</td>\n",
       "      <td>unknown</td>\n",
       "      <td>no</td>\n",
       "    </tr>\n",
       "    <tr>\n",
       "      <th>45210</th>\n",
       "      <td>3.610918</td>\n",
       "      <td>entrepreneur</td>\n",
       "      <td>married</td>\n",
       "      <td>secondary</td>\n",
       "      <td>no</td>\n",
       "      <td>2971</td>\n",
       "      <td>no</td>\n",
       "      <td>no</td>\n",
       "      <td>cellular</td>\n",
       "      <td>nov</td>\n",
       "      <td>17</td>\n",
       "      <td>5.888878</td>\n",
       "      <td>2</td>\n",
       "      <td>188</td>\n",
       "      <td>11</td>\n",
       "      <td>unknown</td>\n",
       "      <td>no</td>\n",
       "    </tr>\n",
       "  </tbody>\n",
       "</table>\n",
       "<p>45184 rows × 17 columns</p>\n",
       "</div>"
      ],
      "text/plain": [
       "       log_of_age           job   marital  education credit_default  \\\n",
       "0        4.060443    management   married   tertiary             no   \n",
       "1        3.784190    technician    single  secondary             no   \n",
       "2        3.496508  entrepreneur   married  secondary             no   \n",
       "3        3.850148   blue-collar   married  secondary             no   \n",
       "4        3.496508   blue-collar    single  secondary             no   \n",
       "...           ...           ...       ...        ...            ...   \n",
       "45206    3.931826    technician   married   tertiary             no   \n",
       "45207    4.262680       retired  divorced    primary             no   \n",
       "45208    4.276666       retired   married  secondary             no   \n",
       "45209    4.043051   blue-collar   married  secondary             no   \n",
       "45210    3.610918  entrepreneur   married  secondary             no   \n",
       "\n",
       "       acc_balance housing_loan personal_loan contact_method month  day  \\\n",
       "0             2143          yes            no       cellular   may    5   \n",
       "1               29          yes            no       cellular   may    5   \n",
       "2                2          yes           yes       cellular   may    5   \n",
       "3             1506          yes            no       cellular   may    5   \n",
       "4                1           no            no       cellular   may    5   \n",
       "...            ...          ...           ...            ...   ...  ...   \n",
       "45206          825           no            no       cellular   nov   17   \n",
       "45207         1729           no            no       cellular   nov   17   \n",
       "45208         5715           no            no       cellular   nov   17   \n",
       "45209          668           no            no      telephone   nov   17   \n",
       "45210         2971           no            no       cellular   nov   17   \n",
       "\n",
       "       log_of_duration  campaign  pdays  previous poutcome campaign_outcome  \n",
       "0             5.564520         1     -1         0  unknown               no  \n",
       "1             5.017280         1     -1         0  unknown               no  \n",
       "2             4.330733         1     -1         0  unknown               no  \n",
       "3             4.521789         1     -1         0  unknown               no  \n",
       "4             5.288267         1     -1         0  unknown               no  \n",
       "...                ...       ...    ...       ...      ...              ...  \n",
       "45206         6.884487         3     -1         0  unknown              yes  \n",
       "45207         6.122493         2     -1         0  unknown              yes  \n",
       "45208         7.027315         5    184         3  success              yes  \n",
       "45209         6.230481         4     -1         0  unknown               no  \n",
       "45210         5.888878         2    188        11  unknown               no  \n",
       "\n",
       "[45184 rows x 17 columns]"
      ]
     },
     "execution_count": 23,
     "metadata": {},
     "output_type": "execute_result"
    }
   ],
   "source": [
    "#change order of columns by name\n",
    "df3 = df2.reindex(columns = ['log_of_age', 'job', 'marital', 'education', 'credit_default','acc_balance', 'housing_loan',\n",
    "       'personal_loan', 'contact_method', 'month', 'day', 'log_of_duration',\n",
    "       'campaign', 'pdays', 'previous', 'poutcome','campaign_outcome'])\n",
    "\n",
    "df3"
   ]
  },
  {
   "cell_type": "code",
   "execution_count": 24,
   "id": "52be8037",
   "metadata": {},
   "outputs": [
    {
     "data": {
      "text/html": [
       "<div>\n",
       "<style scoped>\n",
       "    .dataframe tbody tr th:only-of-type {\n",
       "        vertical-align: middle;\n",
       "    }\n",
       "\n",
       "    .dataframe tbody tr th {\n",
       "        vertical-align: top;\n",
       "    }\n",
       "\n",
       "    .dataframe thead th {\n",
       "        text-align: right;\n",
       "    }\n",
       "</style>\n",
       "<table border=\"1\" class=\"dataframe\">\n",
       "  <thead>\n",
       "    <tr style=\"text-align: right;\">\n",
       "      <th></th>\n",
       "      <th>log_of_age</th>\n",
       "      <th>acc_balance</th>\n",
       "      <th>day</th>\n",
       "      <th>log_of_duration</th>\n",
       "      <th>campaign</th>\n",
       "      <th>pdays</th>\n",
       "      <th>previous</th>\n",
       "    </tr>\n",
       "  </thead>\n",
       "  <tbody>\n",
       "    <tr>\n",
       "      <th>count</th>\n",
       "      <td>45184.000000</td>\n",
       "      <td>45184.000000</td>\n",
       "      <td>45184.000000</td>\n",
       "      <td>45184.000000</td>\n",
       "      <td>45184.000000</td>\n",
       "      <td>45184.000000</td>\n",
       "      <td>45184.000000</td>\n",
       "    </tr>\n",
       "    <tr>\n",
       "      <th>mean</th>\n",
       "      <td>3.679527</td>\n",
       "      <td>1362.399279</td>\n",
       "      <td>15.806325</td>\n",
       "      <td>5.164700</td>\n",
       "      <td>2.763810</td>\n",
       "      <td>40.191262</td>\n",
       "      <td>0.580493</td>\n",
       "    </tr>\n",
       "    <tr>\n",
       "      <th>std</th>\n",
       "      <td>0.254549</td>\n",
       "      <td>3044.558633</td>\n",
       "      <td>8.322471</td>\n",
       "      <td>0.928404</td>\n",
       "      <td>3.097138</td>\n",
       "      <td>100.077234</td>\n",
       "      <td>2.304015</td>\n",
       "    </tr>\n",
       "    <tr>\n",
       "      <th>min</th>\n",
       "      <td>2.890372</td>\n",
       "      <td>-8019.000000</td>\n",
       "      <td>1.000000</td>\n",
       "      <td>1.609438</td>\n",
       "      <td>1.000000</td>\n",
       "      <td>-1.000000</td>\n",
       "      <td>0.000000</td>\n",
       "    </tr>\n",
       "    <tr>\n",
       "      <th>25%</th>\n",
       "      <td>3.496508</td>\n",
       "      <td>72.000000</td>\n",
       "      <td>8.000000</td>\n",
       "      <td>4.634729</td>\n",
       "      <td>1.000000</td>\n",
       "      <td>-1.000000</td>\n",
       "      <td>0.000000</td>\n",
       "    </tr>\n",
       "    <tr>\n",
       "      <th>50%</th>\n",
       "      <td>3.663562</td>\n",
       "      <td>449.000000</td>\n",
       "      <td>16.000000</td>\n",
       "      <td>5.192957</td>\n",
       "      <td>2.000000</td>\n",
       "      <td>-1.000000</td>\n",
       "      <td>0.000000</td>\n",
       "    </tr>\n",
       "    <tr>\n",
       "      <th>75%</th>\n",
       "      <td>3.871201</td>\n",
       "      <td>1428.000000</td>\n",
       "      <td>21.000000</td>\n",
       "      <td>5.765191</td>\n",
       "      <td>3.000000</td>\n",
       "      <td>-1.000000</td>\n",
       "      <td>0.000000</td>\n",
       "    </tr>\n",
       "    <tr>\n",
       "      <th>max</th>\n",
       "      <td>4.553877</td>\n",
       "      <td>102127.000000</td>\n",
       "      <td>31.000000</td>\n",
       "      <td>8.500657</td>\n",
       "      <td>63.000000</td>\n",
       "      <td>871.000000</td>\n",
       "      <td>275.000000</td>\n",
       "    </tr>\n",
       "  </tbody>\n",
       "</table>\n",
       "</div>"
      ],
      "text/plain": [
       "         log_of_age    acc_balance           day  log_of_duration  \\\n",
       "count  45184.000000   45184.000000  45184.000000     45184.000000   \n",
       "mean       3.679527    1362.399279     15.806325         5.164700   \n",
       "std        0.254549    3044.558633      8.322471         0.928404   \n",
       "min        2.890372   -8019.000000      1.000000         1.609438   \n",
       "25%        3.496508      72.000000      8.000000         4.634729   \n",
       "50%        3.663562     449.000000     16.000000         5.192957   \n",
       "75%        3.871201    1428.000000     21.000000         5.765191   \n",
       "max        4.553877  102127.000000     31.000000         8.500657   \n",
       "\n",
       "           campaign         pdays      previous  \n",
       "count  45184.000000  45184.000000  45184.000000  \n",
       "mean       2.763810     40.191262      0.580493  \n",
       "std        3.097138    100.077234      2.304015  \n",
       "min        1.000000     -1.000000      0.000000  \n",
       "25%        1.000000     -1.000000      0.000000  \n",
       "50%        2.000000     -1.000000      0.000000  \n",
       "75%        3.000000     -1.000000      0.000000  \n",
       "max       63.000000    871.000000    275.000000  "
      ]
     },
     "execution_count": 24,
     "metadata": {},
     "output_type": "execute_result"
    }
   ],
   "source": [
    "df3.describe()"
   ]
  },
  {
   "cell_type": "code",
   "execution_count": 25,
   "id": "aaa8cd9e",
   "metadata": {},
   "outputs": [
    {
     "name": "stdout",
     "output_type": "stream",
     "text": [
      "0      36930\n",
      "1       2772\n",
      "2       2104\n",
      "3       1142\n",
      "4        713\n",
      "5        459\n",
      "6        277\n",
      "7        205\n",
      "8        129\n",
      "9         92\n",
      "10        67\n",
      "11        65\n",
      "12        44\n",
      "13        38\n",
      "15        20\n",
      "14        19\n",
      "17        15\n",
      "16        13\n",
      "19        11\n",
      "20         8\n",
      "23         8\n",
      "18         6\n",
      "22         6\n",
      "24         5\n",
      "27         5\n",
      "21         4\n",
      "29         4\n",
      "25         4\n",
      "30         3\n",
      "38         2\n",
      "37         2\n",
      "26         2\n",
      "28         2\n",
      "51         1\n",
      "275        1\n",
      "58         1\n",
      "32         1\n",
      "40         1\n",
      "55         1\n",
      "35         1\n",
      "41         1\n",
      "Name: previous, dtype: int64\n"
     ]
    }
   ],
   "source": [
    "print(df3['previous'].value_counts())"
   ]
  },
  {
   "cell_type": "code",
   "execution_count": 26,
   "id": "63b81cb2",
   "metadata": {},
   "outputs": [
    {
     "name": "stdout",
     "output_type": "stream",
     "text": [
      "0     36930\n",
      "1      2772\n",
      "2      2104\n",
      "3      1142\n",
      "4       713\n",
      "5       459\n",
      "6       277\n",
      "7       205\n",
      "8       129\n",
      "9        92\n",
      "10       67\n",
      "11       65\n",
      "12       44\n",
      "13       38\n",
      "15       20\n",
      "14       19\n",
      "17       15\n",
      "16       13\n",
      "19       11\n",
      "20        8\n",
      "23        8\n",
      "18        6\n",
      "22        6\n",
      "24        5\n",
      "27        5\n",
      "21        4\n",
      "29        4\n",
      "25        4\n",
      "30        3\n",
      "38        2\n",
      "37        2\n",
      "26        2\n",
      "28        2\n",
      "51        1\n",
      "58        1\n",
      "32        1\n",
      "40        1\n",
      "55        1\n",
      "35        1\n",
      "41        1\n",
      "Name: previous, dtype: int64\n"
     ]
    }
   ],
   "source": [
    "# Using drop() to delete row with 275 as previous value\n",
    "df3.drop(df3[df3['previous']==275].index, inplace = True)\n",
    "\n",
    "print(df3['previous'].value_counts())"
   ]
  },
  {
   "cell_type": "code",
   "execution_count": 27,
   "id": "eb31a2ad",
   "metadata": {},
   "outputs": [
    {
     "data": {
      "text/html": [
       "<div>\n",
       "<style scoped>\n",
       "    .dataframe tbody tr th:only-of-type {\n",
       "        vertical-align: middle;\n",
       "    }\n",
       "\n",
       "    .dataframe tbody tr th {\n",
       "        vertical-align: top;\n",
       "    }\n",
       "\n",
       "    .dataframe thead th {\n",
       "        text-align: right;\n",
       "    }\n",
       "</style>\n",
       "<table border=\"1\" class=\"dataframe\">\n",
       "  <thead>\n",
       "    <tr style=\"text-align: right;\">\n",
       "      <th></th>\n",
       "      <th>log_of_age</th>\n",
       "      <th>acc_balance</th>\n",
       "      <th>day</th>\n",
       "      <th>log_of_duration</th>\n",
       "      <th>campaign</th>\n",
       "      <th>pdays</th>\n",
       "      <th>previous</th>\n",
       "    </tr>\n",
       "  </thead>\n",
       "  <tbody>\n",
       "    <tr>\n",
       "      <th>count</th>\n",
       "      <td>45183.000000</td>\n",
       "      <td>45183.000000</td>\n",
       "      <td>45183.000000</td>\n",
       "      <td>45183.000000</td>\n",
       "      <td>45183.000000</td>\n",
       "      <td>45183.000000</td>\n",
       "      <td>45183.00000</td>\n",
       "    </tr>\n",
       "    <tr>\n",
       "      <th>mean</th>\n",
       "      <td>3.679526</td>\n",
       "      <td>1362.417414</td>\n",
       "      <td>15.806631</td>\n",
       "      <td>5.164685</td>\n",
       "      <td>2.763827</td>\n",
       "      <td>40.186353</td>\n",
       "      <td>0.57442</td>\n",
       "    </tr>\n",
       "    <tr>\n",
       "      <th>std</th>\n",
       "      <td>0.254551</td>\n",
       "      <td>3044.589884</td>\n",
       "      <td>8.322310</td>\n",
       "      <td>0.928409</td>\n",
       "      <td>3.097171</td>\n",
       "      <td>100.072901</td>\n",
       "      <td>1.90836</td>\n",
       "    </tr>\n",
       "    <tr>\n",
       "      <th>min</th>\n",
       "      <td>2.890372</td>\n",
       "      <td>-8019.000000</td>\n",
       "      <td>1.000000</td>\n",
       "      <td>1.609438</td>\n",
       "      <td>1.000000</td>\n",
       "      <td>-1.000000</td>\n",
       "      <td>0.00000</td>\n",
       "    </tr>\n",
       "    <tr>\n",
       "      <th>25%</th>\n",
       "      <td>3.496508</td>\n",
       "      <td>72.000000</td>\n",
       "      <td>8.000000</td>\n",
       "      <td>4.634729</td>\n",
       "      <td>1.000000</td>\n",
       "      <td>-1.000000</td>\n",
       "      <td>0.00000</td>\n",
       "    </tr>\n",
       "    <tr>\n",
       "      <th>50%</th>\n",
       "      <td>3.663562</td>\n",
       "      <td>449.000000</td>\n",
       "      <td>16.000000</td>\n",
       "      <td>5.192957</td>\n",
       "      <td>2.000000</td>\n",
       "      <td>-1.000000</td>\n",
       "      <td>0.00000</td>\n",
       "    </tr>\n",
       "    <tr>\n",
       "      <th>75%</th>\n",
       "      <td>3.871201</td>\n",
       "      <td>1428.000000</td>\n",
       "      <td>21.000000</td>\n",
       "      <td>5.765191</td>\n",
       "      <td>3.000000</td>\n",
       "      <td>-1.000000</td>\n",
       "      <td>0.00000</td>\n",
       "    </tr>\n",
       "    <tr>\n",
       "      <th>max</th>\n",
       "      <td>4.553877</td>\n",
       "      <td>102127.000000</td>\n",
       "      <td>31.000000</td>\n",
       "      <td>8.500657</td>\n",
       "      <td>63.000000</td>\n",
       "      <td>871.000000</td>\n",
       "      <td>58.00000</td>\n",
       "    </tr>\n",
       "  </tbody>\n",
       "</table>\n",
       "</div>"
      ],
      "text/plain": [
       "         log_of_age    acc_balance           day  log_of_duration  \\\n",
       "count  45183.000000   45183.000000  45183.000000     45183.000000   \n",
       "mean       3.679526    1362.417414     15.806631         5.164685   \n",
       "std        0.254551    3044.589884      8.322310         0.928409   \n",
       "min        2.890372   -8019.000000      1.000000         1.609438   \n",
       "25%        3.496508      72.000000      8.000000         4.634729   \n",
       "50%        3.663562     449.000000     16.000000         5.192957   \n",
       "75%        3.871201    1428.000000     21.000000         5.765191   \n",
       "max        4.553877  102127.000000     31.000000         8.500657   \n",
       "\n",
       "           campaign         pdays     previous  \n",
       "count  45183.000000  45183.000000  45183.00000  \n",
       "mean       2.763827     40.186353      0.57442  \n",
       "std        3.097171    100.072901      1.90836  \n",
       "min        1.000000     -1.000000      0.00000  \n",
       "25%        1.000000     -1.000000      0.00000  \n",
       "50%        2.000000     -1.000000      0.00000  \n",
       "75%        3.000000     -1.000000      0.00000  \n",
       "max       63.000000    871.000000     58.00000  "
      ]
     },
     "execution_count": 27,
     "metadata": {},
     "output_type": "execute_result"
    }
   ],
   "source": [
    "df3.describe()"
   ]
  },
  {
   "cell_type": "code",
   "execution_count": 28,
   "id": "b0149bfb",
   "metadata": {},
   "outputs": [
    {
     "data": {
      "text/html": [
       "<div>\n",
       "<style scoped>\n",
       "    .dataframe tbody tr th:only-of-type {\n",
       "        vertical-align: middle;\n",
       "    }\n",
       "\n",
       "    .dataframe tbody tr th {\n",
       "        vertical-align: top;\n",
       "    }\n",
       "\n",
       "    .dataframe thead th {\n",
       "        text-align: right;\n",
       "    }\n",
       "</style>\n",
       "<table border=\"1\" class=\"dataframe\">\n",
       "  <thead>\n",
       "    <tr style=\"text-align: right;\">\n",
       "      <th></th>\n",
       "      <th>log_of_age</th>\n",
       "      <th>job</th>\n",
       "      <th>marital</th>\n",
       "      <th>education</th>\n",
       "      <th>credit_default</th>\n",
       "      <th>acc_balance</th>\n",
       "      <th>housing_loan</th>\n",
       "      <th>personal_loan</th>\n",
       "      <th>contact_method</th>\n",
       "      <th>month</th>\n",
       "      <th>day</th>\n",
       "      <th>log_of_duration</th>\n",
       "      <th>campaign</th>\n",
       "      <th>pdays</th>\n",
       "      <th>previous</th>\n",
       "      <th>poutcome</th>\n",
       "      <th>campaign_outcome</th>\n",
       "    </tr>\n",
       "  </thead>\n",
       "  <tbody>\n",
       "    <tr>\n",
       "      <th>0</th>\n",
       "      <td>old</td>\n",
       "      <td>management</td>\n",
       "      <td>married</td>\n",
       "      <td>tertiary</td>\n",
       "      <td>no</td>\n",
       "      <td>0_to_50k_acc_balance</td>\n",
       "      <td>yes</td>\n",
       "      <td>no</td>\n",
       "      <td>cellular</td>\n",
       "      <td>may</td>\n",
       "      <td>within_last_10d</td>\n",
       "      <td>medium_duration</td>\n",
       "      <td>0_to_25_contacts</td>\n",
       "      <td>within_250d</td>\n",
       "      <td>0_to_20_contacts</td>\n",
       "      <td>unknown</td>\n",
       "      <td>no</td>\n",
       "    </tr>\n",
       "    <tr>\n",
       "      <th>1</th>\n",
       "      <td>middle_age</td>\n",
       "      <td>technician</td>\n",
       "      <td>single</td>\n",
       "      <td>secondary</td>\n",
       "      <td>no</td>\n",
       "      <td>0_to_50k_acc_balance</td>\n",
       "      <td>yes</td>\n",
       "      <td>no</td>\n",
       "      <td>cellular</td>\n",
       "      <td>may</td>\n",
       "      <td>within_last_10d</td>\n",
       "      <td>medium_duration</td>\n",
       "      <td>0_to_25_contacts</td>\n",
       "      <td>within_250d</td>\n",
       "      <td>0_to_20_contacts</td>\n",
       "      <td>unknown</td>\n",
       "      <td>no</td>\n",
       "    </tr>\n",
       "    <tr>\n",
       "      <th>2</th>\n",
       "      <td>middle_age</td>\n",
       "      <td>entrepreneur</td>\n",
       "      <td>married</td>\n",
       "      <td>secondary</td>\n",
       "      <td>no</td>\n",
       "      <td>0_to_50k_acc_balance</td>\n",
       "      <td>yes</td>\n",
       "      <td>yes</td>\n",
       "      <td>cellular</td>\n",
       "      <td>may</td>\n",
       "      <td>within_last_10d</td>\n",
       "      <td>medium_duration</td>\n",
       "      <td>0_to_25_contacts</td>\n",
       "      <td>within_250d</td>\n",
       "      <td>0_to_20_contacts</td>\n",
       "      <td>unknown</td>\n",
       "      <td>no</td>\n",
       "    </tr>\n",
       "    <tr>\n",
       "      <th>3</th>\n",
       "      <td>middle_age</td>\n",
       "      <td>blue-collar</td>\n",
       "      <td>married</td>\n",
       "      <td>secondary</td>\n",
       "      <td>no</td>\n",
       "      <td>0_to_50k_acc_balance</td>\n",
       "      <td>yes</td>\n",
       "      <td>no</td>\n",
       "      <td>cellular</td>\n",
       "      <td>may</td>\n",
       "      <td>within_last_10d</td>\n",
       "      <td>medium_duration</td>\n",
       "      <td>0_to_25_contacts</td>\n",
       "      <td>within_250d</td>\n",
       "      <td>0_to_20_contacts</td>\n",
       "      <td>unknown</td>\n",
       "      <td>no</td>\n",
       "    </tr>\n",
       "    <tr>\n",
       "      <th>4</th>\n",
       "      <td>middle_age</td>\n",
       "      <td>blue-collar</td>\n",
       "      <td>single</td>\n",
       "      <td>secondary</td>\n",
       "      <td>no</td>\n",
       "      <td>0_to_50k_acc_balance</td>\n",
       "      <td>no</td>\n",
       "      <td>no</td>\n",
       "      <td>cellular</td>\n",
       "      <td>may</td>\n",
       "      <td>within_last_10d</td>\n",
       "      <td>medium_duration</td>\n",
       "      <td>0_to_25_contacts</td>\n",
       "      <td>within_250d</td>\n",
       "      <td>0_to_20_contacts</td>\n",
       "      <td>unknown</td>\n",
       "      <td>no</td>\n",
       "    </tr>\n",
       "    <tr>\n",
       "      <th>...</th>\n",
       "      <td>...</td>\n",
       "      <td>...</td>\n",
       "      <td>...</td>\n",
       "      <td>...</td>\n",
       "      <td>...</td>\n",
       "      <td>...</td>\n",
       "      <td>...</td>\n",
       "      <td>...</td>\n",
       "      <td>...</td>\n",
       "      <td>...</td>\n",
       "      <td>...</td>\n",
       "      <td>...</td>\n",
       "      <td>...</td>\n",
       "      <td>...</td>\n",
       "      <td>...</td>\n",
       "      <td>...</td>\n",
       "      <td>...</td>\n",
       "    </tr>\n",
       "    <tr>\n",
       "      <th>45206</th>\n",
       "      <td>middle_age</td>\n",
       "      <td>technician</td>\n",
       "      <td>married</td>\n",
       "      <td>tertiary</td>\n",
       "      <td>no</td>\n",
       "      <td>0_to_50k_acc_balance</td>\n",
       "      <td>no</td>\n",
       "      <td>no</td>\n",
       "      <td>cellular</td>\n",
       "      <td>nov</td>\n",
       "      <td>within_last_10_to_20d</td>\n",
       "      <td>long_duration</td>\n",
       "      <td>0_to_25_contacts</td>\n",
       "      <td>within_250d</td>\n",
       "      <td>0_to_20_contacts</td>\n",
       "      <td>unknown</td>\n",
       "      <td>yes</td>\n",
       "    </tr>\n",
       "    <tr>\n",
       "      <th>45207</th>\n",
       "      <td>old</td>\n",
       "      <td>retired</td>\n",
       "      <td>divorced</td>\n",
       "      <td>primary</td>\n",
       "      <td>no</td>\n",
       "      <td>0_to_50k_acc_balance</td>\n",
       "      <td>no</td>\n",
       "      <td>no</td>\n",
       "      <td>cellular</td>\n",
       "      <td>nov</td>\n",
       "      <td>within_last_10_to_20d</td>\n",
       "      <td>long_duration</td>\n",
       "      <td>0_to_25_contacts</td>\n",
       "      <td>within_250d</td>\n",
       "      <td>0_to_20_contacts</td>\n",
       "      <td>unknown</td>\n",
       "      <td>yes</td>\n",
       "    </tr>\n",
       "    <tr>\n",
       "      <th>45208</th>\n",
       "      <td>old</td>\n",
       "      <td>retired</td>\n",
       "      <td>married</td>\n",
       "      <td>secondary</td>\n",
       "      <td>no</td>\n",
       "      <td>0_to_50k_acc_balance</td>\n",
       "      <td>no</td>\n",
       "      <td>no</td>\n",
       "      <td>cellular</td>\n",
       "      <td>nov</td>\n",
       "      <td>within_last_10_to_20d</td>\n",
       "      <td>long_duration</td>\n",
       "      <td>0_to_25_contacts</td>\n",
       "      <td>within_250d</td>\n",
       "      <td>0_to_20_contacts</td>\n",
       "      <td>success</td>\n",
       "      <td>yes</td>\n",
       "    </tr>\n",
       "    <tr>\n",
       "      <th>45209</th>\n",
       "      <td>old</td>\n",
       "      <td>blue-collar</td>\n",
       "      <td>married</td>\n",
       "      <td>secondary</td>\n",
       "      <td>no</td>\n",
       "      <td>0_to_50k_acc_balance</td>\n",
       "      <td>no</td>\n",
       "      <td>no</td>\n",
       "      <td>telephone</td>\n",
       "      <td>nov</td>\n",
       "      <td>within_last_10_to_20d</td>\n",
       "      <td>long_duration</td>\n",
       "      <td>0_to_25_contacts</td>\n",
       "      <td>within_250d</td>\n",
       "      <td>0_to_20_contacts</td>\n",
       "      <td>unknown</td>\n",
       "      <td>no</td>\n",
       "    </tr>\n",
       "    <tr>\n",
       "      <th>45210</th>\n",
       "      <td>middle_age</td>\n",
       "      <td>entrepreneur</td>\n",
       "      <td>married</td>\n",
       "      <td>secondary</td>\n",
       "      <td>no</td>\n",
       "      <td>0_to_50k_acc_balance</td>\n",
       "      <td>no</td>\n",
       "      <td>no</td>\n",
       "      <td>cellular</td>\n",
       "      <td>nov</td>\n",
       "      <td>within_last_10_to_20d</td>\n",
       "      <td>medium_duration</td>\n",
       "      <td>0_to_25_contacts</td>\n",
       "      <td>within_250d</td>\n",
       "      <td>0_to_20_contacts</td>\n",
       "      <td>unknown</td>\n",
       "      <td>no</td>\n",
       "    </tr>\n",
       "  </tbody>\n",
       "</table>\n",
       "<p>45183 rows × 17 columns</p>\n",
       "</div>"
      ],
      "text/plain": [
       "       log_of_age           job   marital  education credit_default  \\\n",
       "0             old    management   married   tertiary             no   \n",
       "1      middle_age    technician    single  secondary             no   \n",
       "2      middle_age  entrepreneur   married  secondary             no   \n",
       "3      middle_age   blue-collar   married  secondary             no   \n",
       "4      middle_age   blue-collar    single  secondary             no   \n",
       "...           ...           ...       ...        ...            ...   \n",
       "45206  middle_age    technician   married   tertiary             no   \n",
       "45207         old       retired  divorced    primary             no   \n",
       "45208         old       retired   married  secondary             no   \n",
       "45209         old   blue-collar   married  secondary             no   \n",
       "45210  middle_age  entrepreneur   married  secondary             no   \n",
       "\n",
       "                acc_balance housing_loan personal_loan contact_method month  \\\n",
       "0      0_to_50k_acc_balance          yes            no       cellular   may   \n",
       "1      0_to_50k_acc_balance          yes            no       cellular   may   \n",
       "2      0_to_50k_acc_balance          yes           yes       cellular   may   \n",
       "3      0_to_50k_acc_balance          yes            no       cellular   may   \n",
       "4      0_to_50k_acc_balance           no            no       cellular   may   \n",
       "...                     ...          ...           ...            ...   ...   \n",
       "45206  0_to_50k_acc_balance           no            no       cellular   nov   \n",
       "45207  0_to_50k_acc_balance           no            no       cellular   nov   \n",
       "45208  0_to_50k_acc_balance           no            no       cellular   nov   \n",
       "45209  0_to_50k_acc_balance           no            no      telephone   nov   \n",
       "45210  0_to_50k_acc_balance           no            no       cellular   nov   \n",
       "\n",
       "                         day  log_of_duration          campaign        pdays  \\\n",
       "0            within_last_10d  medium_duration  0_to_25_contacts  within_250d   \n",
       "1            within_last_10d  medium_duration  0_to_25_contacts  within_250d   \n",
       "2            within_last_10d  medium_duration  0_to_25_contacts  within_250d   \n",
       "3            within_last_10d  medium_duration  0_to_25_contacts  within_250d   \n",
       "4            within_last_10d  medium_duration  0_to_25_contacts  within_250d   \n",
       "...                      ...              ...               ...          ...   \n",
       "45206  within_last_10_to_20d    long_duration  0_to_25_contacts  within_250d   \n",
       "45207  within_last_10_to_20d    long_duration  0_to_25_contacts  within_250d   \n",
       "45208  within_last_10_to_20d    long_duration  0_to_25_contacts  within_250d   \n",
       "45209  within_last_10_to_20d    long_duration  0_to_25_contacts  within_250d   \n",
       "45210  within_last_10_to_20d  medium_duration  0_to_25_contacts  within_250d   \n",
       "\n",
       "               previous poutcome campaign_outcome  \n",
       "0      0_to_20_contacts  unknown               no  \n",
       "1      0_to_20_contacts  unknown               no  \n",
       "2      0_to_20_contacts  unknown               no  \n",
       "3      0_to_20_contacts  unknown               no  \n",
       "4      0_to_20_contacts  unknown               no  \n",
       "...                 ...      ...              ...  \n",
       "45206  0_to_20_contacts  unknown              yes  \n",
       "45207  0_to_20_contacts  unknown              yes  \n",
       "45208  0_to_20_contacts  success              yes  \n",
       "45209  0_to_20_contacts  unknown               no  \n",
       "45210  0_to_20_contacts  unknown               no  \n",
       "\n",
       "[45183 rows x 17 columns]"
      ]
     },
     "execution_count": 28,
     "metadata": {},
     "output_type": "execute_result"
    }
   ],
   "source": [
    "#putting the continouse variables into intervals \n",
    "\n",
    "def change_age(inpt):\n",
    "    \n",
    "    if inpt<= 3 and inpt>= 2: \n",
    "        return 'young'\n",
    "    elif inpt <=4 and inpt > 3: \n",
    "        return 'middle_age'\n",
    "    else: \n",
    "        return 'old'\n",
    "    \n",
    "df3[\"log_of_age\"]=df3[\"log_of_age\"].apply(change_age)\n",
    "\n",
    "def change_day(inpt):\n",
    "    \n",
    "    if inpt<= 10 and inpt>= 0: \n",
    "        return 'within_last_10d'\n",
    "    elif inpt <=20 and inpt > 10: \n",
    "        return 'within_last_10_to_20d'\n",
    "    else: \n",
    "        return 'within_last_20_or_more_d'\n",
    "    \n",
    "df3[\"day\"]=df3[\"day\"].apply(change_day)\n",
    "\n",
    "def change_log_of_duration(inpt):\n",
    "    \n",
    "    if inpt<= 3 and inpt>= 1: \n",
    "        return 'short_duration'\n",
    "    elif inpt <=6 and inpt > 3: \n",
    "        return 'medium_duration'\n",
    "    else: \n",
    "        return 'long_duration'\n",
    "    \n",
    "df3[\"log_of_duration\"]=df3[\"log_of_duration\"].apply(change_log_of_duration)\n",
    "\n",
    "def change_pdays(inpt):\n",
    "    \n",
    "    if inpt<= 250 and inpt>= -1: \n",
    "        return 'within_250d'\n",
    "    elif inpt <= 500 and inpt > 250: \n",
    "        return 'within_250_and_500d'\n",
    "    elif inpt <= 750 and inpt > 500:\n",
    "        return 'within_500_and_750d'\n",
    "    else:\n",
    "        return 'more_than_750d' \n",
    "    \n",
    "df3[\"pdays\"]=df3[\"pdays\"].apply(change_pdays)\n",
    "\n",
    "def change_campaign(inpt):\n",
    "    \n",
    "    if inpt<= 25 and inpt>= 0: \n",
    "        return '0_to_25_contacts'\n",
    "    elif inpt <= 50 and inpt > 25: \n",
    "        return '25_to_50_contacts'\n",
    "    else:\n",
    "        return 'more_than_50_contacts'\n",
    "    \n",
    "df3[\"campaign\"]=df3[\"campaign\"].apply(change_campaign)\n",
    "\n",
    "\n",
    "def change_previous(inpt):\n",
    "    \n",
    "    if inpt<= 20 and inpt>= 0: \n",
    "        return '0_to_20_contacts'\n",
    "    elif inpt <= 40 and inpt > 20: \n",
    "        return '20_to_40_contacts'\n",
    "    else:\n",
    "        return 'more_than_40_contacts'\n",
    "    \n",
    "df3[\"previous\"]=df3[\"previous\"].apply(change_previous)\n",
    "\n",
    "def change_acc_balance(inpt):\n",
    "    \n",
    "    if inpt< 0 and inpt>= -10000: \n",
    "        return 'negative_acc_balance'\n",
    "    elif inpt <= 50000 and inpt >= 0: \n",
    "        return '0_to_50k_acc_balance'\n",
    "    else:\n",
    "        return 'more_than_50k_acc_balance'\n",
    "    \n",
    "df3[\"acc_balance\"]=df3[\"acc_balance\"].apply(change_acc_balance)\n",
    "\n",
    "\n",
    "df3"
   ]
  },
  {
   "cell_type": "markdown",
   "id": "e3183cb8",
   "metadata": {},
   "source": [
    "Some columns were put into intervals and one hot encoding was done, for the ease in machine learning model implementation."
   ]
  },
  {
   "cell_type": "code",
   "execution_count": 29,
   "id": "4c73ec25",
   "metadata": {},
   "outputs": [
    {
     "name": "stdout",
     "output_type": "stream",
     "text": [
      "log_of_age          object\n",
      "job                 object\n",
      "marital             object\n",
      "education           object\n",
      "credit_default      object\n",
      "acc_balance         object\n",
      "housing_loan        object\n",
      "personal_loan       object\n",
      "contact_method      object\n",
      "month               object\n",
      "day                 object\n",
      "log_of_duration     object\n",
      "campaign            object\n",
      "pdays               object\n",
      "previous            object\n",
      "poutcome            object\n",
      "campaign_outcome    object\n",
      "dtype: object\n"
     ]
    }
   ],
   "source": [
    "# checking the datatypes of all columns\n",
    "print(df3.dtypes)"
   ]
  },
  {
   "cell_type": "code",
   "execution_count": 30,
   "id": "1675c3e4",
   "metadata": {},
   "outputs": [
    {
     "data": {
      "text/html": [
       "<div>\n",
       "<style scoped>\n",
       "    .dataframe tbody tr th:only-of-type {\n",
       "        vertical-align: middle;\n",
       "    }\n",
       "\n",
       "    .dataframe tbody tr th {\n",
       "        vertical-align: top;\n",
       "    }\n",
       "\n",
       "    .dataframe thead th {\n",
       "        text-align: right;\n",
       "    }\n",
       "</style>\n",
       "<table border=\"1\" class=\"dataframe\">\n",
       "  <thead>\n",
       "    <tr style=\"text-align: right;\">\n",
       "      <th></th>\n",
       "      <th>log_of_age_middle_age</th>\n",
       "      <th>log_of_age_old</th>\n",
       "      <th>log_of_age_young</th>\n",
       "      <th>job_admin.</th>\n",
       "      <th>job_blue-collar</th>\n",
       "      <th>job_entrepreneur</th>\n",
       "      <th>job_housemaid</th>\n",
       "      <th>job_management</th>\n",
       "      <th>job_retired</th>\n",
       "      <th>job_self-employed</th>\n",
       "      <th>...</th>\n",
       "      <th>pdays_within_250d</th>\n",
       "      <th>pdays_within_500_and_750d</th>\n",
       "      <th>previous_0_to_20_contacts</th>\n",
       "      <th>previous_20_to_40_contacts</th>\n",
       "      <th>previous_more_than_40_contacts</th>\n",
       "      <th>poutcome_failure</th>\n",
       "      <th>poutcome_success</th>\n",
       "      <th>poutcome_unknown</th>\n",
       "      <th>campaign_outcome_no</th>\n",
       "      <th>campaign_outcome_yes</th>\n",
       "    </tr>\n",
       "  </thead>\n",
       "  <tbody>\n",
       "    <tr>\n",
       "      <th>0</th>\n",
       "      <td>0</td>\n",
       "      <td>1</td>\n",
       "      <td>0</td>\n",
       "      <td>0</td>\n",
       "      <td>0</td>\n",
       "      <td>0</td>\n",
       "      <td>0</td>\n",
       "      <td>1</td>\n",
       "      <td>0</td>\n",
       "      <td>0</td>\n",
       "      <td>...</td>\n",
       "      <td>1</td>\n",
       "      <td>0</td>\n",
       "      <td>1</td>\n",
       "      <td>0</td>\n",
       "      <td>0</td>\n",
       "      <td>0</td>\n",
       "      <td>0</td>\n",
       "      <td>1</td>\n",
       "      <td>1</td>\n",
       "      <td>0</td>\n",
       "    </tr>\n",
       "    <tr>\n",
       "      <th>1</th>\n",
       "      <td>1</td>\n",
       "      <td>0</td>\n",
       "      <td>0</td>\n",
       "      <td>0</td>\n",
       "      <td>0</td>\n",
       "      <td>0</td>\n",
       "      <td>0</td>\n",
       "      <td>0</td>\n",
       "      <td>0</td>\n",
       "      <td>0</td>\n",
       "      <td>...</td>\n",
       "      <td>1</td>\n",
       "      <td>0</td>\n",
       "      <td>1</td>\n",
       "      <td>0</td>\n",
       "      <td>0</td>\n",
       "      <td>0</td>\n",
       "      <td>0</td>\n",
       "      <td>1</td>\n",
       "      <td>1</td>\n",
       "      <td>0</td>\n",
       "    </tr>\n",
       "    <tr>\n",
       "      <th>2</th>\n",
       "      <td>1</td>\n",
       "      <td>0</td>\n",
       "      <td>0</td>\n",
       "      <td>0</td>\n",
       "      <td>0</td>\n",
       "      <td>1</td>\n",
       "      <td>0</td>\n",
       "      <td>0</td>\n",
       "      <td>0</td>\n",
       "      <td>0</td>\n",
       "      <td>...</td>\n",
       "      <td>1</td>\n",
       "      <td>0</td>\n",
       "      <td>1</td>\n",
       "      <td>0</td>\n",
       "      <td>0</td>\n",
       "      <td>0</td>\n",
       "      <td>0</td>\n",
       "      <td>1</td>\n",
       "      <td>1</td>\n",
       "      <td>0</td>\n",
       "    </tr>\n",
       "    <tr>\n",
       "      <th>3</th>\n",
       "      <td>1</td>\n",
       "      <td>0</td>\n",
       "      <td>0</td>\n",
       "      <td>0</td>\n",
       "      <td>1</td>\n",
       "      <td>0</td>\n",
       "      <td>0</td>\n",
       "      <td>0</td>\n",
       "      <td>0</td>\n",
       "      <td>0</td>\n",
       "      <td>...</td>\n",
       "      <td>1</td>\n",
       "      <td>0</td>\n",
       "      <td>1</td>\n",
       "      <td>0</td>\n",
       "      <td>0</td>\n",
       "      <td>0</td>\n",
       "      <td>0</td>\n",
       "      <td>1</td>\n",
       "      <td>1</td>\n",
       "      <td>0</td>\n",
       "    </tr>\n",
       "    <tr>\n",
       "      <th>4</th>\n",
       "      <td>1</td>\n",
       "      <td>0</td>\n",
       "      <td>0</td>\n",
       "      <td>0</td>\n",
       "      <td>1</td>\n",
       "      <td>0</td>\n",
       "      <td>0</td>\n",
       "      <td>0</td>\n",
       "      <td>0</td>\n",
       "      <td>0</td>\n",
       "      <td>...</td>\n",
       "      <td>1</td>\n",
       "      <td>0</td>\n",
       "      <td>1</td>\n",
       "      <td>0</td>\n",
       "      <td>0</td>\n",
       "      <td>0</td>\n",
       "      <td>0</td>\n",
       "      <td>1</td>\n",
       "      <td>1</td>\n",
       "      <td>0</td>\n",
       "    </tr>\n",
       "    <tr>\n",
       "      <th>...</th>\n",
       "      <td>...</td>\n",
       "      <td>...</td>\n",
       "      <td>...</td>\n",
       "      <td>...</td>\n",
       "      <td>...</td>\n",
       "      <td>...</td>\n",
       "      <td>...</td>\n",
       "      <td>...</td>\n",
       "      <td>...</td>\n",
       "      <td>...</td>\n",
       "      <td>...</td>\n",
       "      <td>...</td>\n",
       "      <td>...</td>\n",
       "      <td>...</td>\n",
       "      <td>...</td>\n",
       "      <td>...</td>\n",
       "      <td>...</td>\n",
       "      <td>...</td>\n",
       "      <td>...</td>\n",
       "      <td>...</td>\n",
       "      <td>...</td>\n",
       "    </tr>\n",
       "    <tr>\n",
       "      <th>45206</th>\n",
       "      <td>1</td>\n",
       "      <td>0</td>\n",
       "      <td>0</td>\n",
       "      <td>0</td>\n",
       "      <td>0</td>\n",
       "      <td>0</td>\n",
       "      <td>0</td>\n",
       "      <td>0</td>\n",
       "      <td>0</td>\n",
       "      <td>0</td>\n",
       "      <td>...</td>\n",
       "      <td>1</td>\n",
       "      <td>0</td>\n",
       "      <td>1</td>\n",
       "      <td>0</td>\n",
       "      <td>0</td>\n",
       "      <td>0</td>\n",
       "      <td>0</td>\n",
       "      <td>1</td>\n",
       "      <td>0</td>\n",
       "      <td>1</td>\n",
       "    </tr>\n",
       "    <tr>\n",
       "      <th>45207</th>\n",
       "      <td>0</td>\n",
       "      <td>1</td>\n",
       "      <td>0</td>\n",
       "      <td>0</td>\n",
       "      <td>0</td>\n",
       "      <td>0</td>\n",
       "      <td>0</td>\n",
       "      <td>0</td>\n",
       "      <td>1</td>\n",
       "      <td>0</td>\n",
       "      <td>...</td>\n",
       "      <td>1</td>\n",
       "      <td>0</td>\n",
       "      <td>1</td>\n",
       "      <td>0</td>\n",
       "      <td>0</td>\n",
       "      <td>0</td>\n",
       "      <td>0</td>\n",
       "      <td>1</td>\n",
       "      <td>0</td>\n",
       "      <td>1</td>\n",
       "    </tr>\n",
       "    <tr>\n",
       "      <th>45208</th>\n",
       "      <td>0</td>\n",
       "      <td>1</td>\n",
       "      <td>0</td>\n",
       "      <td>0</td>\n",
       "      <td>0</td>\n",
       "      <td>0</td>\n",
       "      <td>0</td>\n",
       "      <td>0</td>\n",
       "      <td>1</td>\n",
       "      <td>0</td>\n",
       "      <td>...</td>\n",
       "      <td>1</td>\n",
       "      <td>0</td>\n",
       "      <td>1</td>\n",
       "      <td>0</td>\n",
       "      <td>0</td>\n",
       "      <td>0</td>\n",
       "      <td>1</td>\n",
       "      <td>0</td>\n",
       "      <td>0</td>\n",
       "      <td>1</td>\n",
       "    </tr>\n",
       "    <tr>\n",
       "      <th>45209</th>\n",
       "      <td>0</td>\n",
       "      <td>1</td>\n",
       "      <td>0</td>\n",
       "      <td>0</td>\n",
       "      <td>1</td>\n",
       "      <td>0</td>\n",
       "      <td>0</td>\n",
       "      <td>0</td>\n",
       "      <td>0</td>\n",
       "      <td>0</td>\n",
       "      <td>...</td>\n",
       "      <td>1</td>\n",
       "      <td>0</td>\n",
       "      <td>1</td>\n",
       "      <td>0</td>\n",
       "      <td>0</td>\n",
       "      <td>0</td>\n",
       "      <td>0</td>\n",
       "      <td>1</td>\n",
       "      <td>1</td>\n",
       "      <td>0</td>\n",
       "    </tr>\n",
       "    <tr>\n",
       "      <th>45210</th>\n",
       "      <td>1</td>\n",
       "      <td>0</td>\n",
       "      <td>0</td>\n",
       "      <td>0</td>\n",
       "      <td>0</td>\n",
       "      <td>1</td>\n",
       "      <td>0</td>\n",
       "      <td>0</td>\n",
       "      <td>0</td>\n",
       "      <td>0</td>\n",
       "      <td>...</td>\n",
       "      <td>1</td>\n",
       "      <td>0</td>\n",
       "      <td>1</td>\n",
       "      <td>0</td>\n",
       "      <td>0</td>\n",
       "      <td>0</td>\n",
       "      <td>0</td>\n",
       "      <td>1</td>\n",
       "      <td>1</td>\n",
       "      <td>0</td>\n",
       "    </tr>\n",
       "  </tbody>\n",
       "</table>\n",
       "<p>45183 rows × 64 columns</p>\n",
       "</div>"
      ],
      "text/plain": [
       "       log_of_age_middle_age  log_of_age_old  log_of_age_young  job_admin.  \\\n",
       "0                          0               1                 0           0   \n",
       "1                          1               0                 0           0   \n",
       "2                          1               0                 0           0   \n",
       "3                          1               0                 0           0   \n",
       "4                          1               0                 0           0   \n",
       "...                      ...             ...               ...         ...   \n",
       "45206                      1               0                 0           0   \n",
       "45207                      0               1                 0           0   \n",
       "45208                      0               1                 0           0   \n",
       "45209                      0               1                 0           0   \n",
       "45210                      1               0                 0           0   \n",
       "\n",
       "       job_blue-collar  job_entrepreneur  job_housemaid  job_management  \\\n",
       "0                    0                 0              0               1   \n",
       "1                    0                 0              0               0   \n",
       "2                    0                 1              0               0   \n",
       "3                    1                 0              0               0   \n",
       "4                    1                 0              0               0   \n",
       "...                ...               ...            ...             ...   \n",
       "45206                0                 0              0               0   \n",
       "45207                0                 0              0               0   \n",
       "45208                0                 0              0               0   \n",
       "45209                1                 0              0               0   \n",
       "45210                0                 1              0               0   \n",
       "\n",
       "       job_retired  job_self-employed  ...  pdays_within_250d  \\\n",
       "0                0                  0  ...                  1   \n",
       "1                0                  0  ...                  1   \n",
       "2                0                  0  ...                  1   \n",
       "3                0                  0  ...                  1   \n",
       "4                0                  0  ...                  1   \n",
       "...            ...                ...  ...                ...   \n",
       "45206            0                  0  ...                  1   \n",
       "45207            1                  0  ...                  1   \n",
       "45208            1                  0  ...                  1   \n",
       "45209            0                  0  ...                  1   \n",
       "45210            0                  0  ...                  1   \n",
       "\n",
       "       pdays_within_500_and_750d  previous_0_to_20_contacts  \\\n",
       "0                              0                          1   \n",
       "1                              0                          1   \n",
       "2                              0                          1   \n",
       "3                              0                          1   \n",
       "4                              0                          1   \n",
       "...                          ...                        ...   \n",
       "45206                          0                          1   \n",
       "45207                          0                          1   \n",
       "45208                          0                          1   \n",
       "45209                          0                          1   \n",
       "45210                          0                          1   \n",
       "\n",
       "       previous_20_to_40_contacts  previous_more_than_40_contacts  \\\n",
       "0                               0                               0   \n",
       "1                               0                               0   \n",
       "2                               0                               0   \n",
       "3                               0                               0   \n",
       "4                               0                               0   \n",
       "...                           ...                             ...   \n",
       "45206                           0                               0   \n",
       "45207                           0                               0   \n",
       "45208                           0                               0   \n",
       "45209                           0                               0   \n",
       "45210                           0                               0   \n",
       "\n",
       "       poutcome_failure  poutcome_success  poutcome_unknown  \\\n",
       "0                     0                 0                 1   \n",
       "1                     0                 0                 1   \n",
       "2                     0                 0                 1   \n",
       "3                     0                 0                 1   \n",
       "4                     0                 0                 1   \n",
       "...                 ...               ...               ...   \n",
       "45206                 0                 0                 1   \n",
       "45207                 0                 0                 1   \n",
       "45208                 0                 1                 0   \n",
       "45209                 0                 0                 1   \n",
       "45210                 0                 0                 1   \n",
       "\n",
       "       campaign_outcome_no  campaign_outcome_yes  \n",
       "0                        1                     0  \n",
       "1                        1                     0  \n",
       "2                        1                     0  \n",
       "3                        1                     0  \n",
       "4                        1                     0  \n",
       "...                    ...                   ...  \n",
       "45206                    0                     1  \n",
       "45207                    0                     1  \n",
       "45208                    0                     1  \n",
       "45209                    1                     0  \n",
       "45210                    1                     0  \n",
       "\n",
       "[45183 rows x 64 columns]"
      ]
     },
     "execution_count": 30,
     "metadata": {},
     "output_type": "execute_result"
    }
   ],
   "source": [
    "#Make copy to avoid changing original data \n",
    "encoded_data = df3.copy()\n",
    "\n",
    "from sklearn.preprocessing import OneHotEncoder\n",
    "\n",
    "\n",
    "#Using one-hot encoding to convert the categorical variables into numerical\n",
    "\n",
    "encoded_data = pd.get_dummies(data = encoded_data)\n",
    "encoded_data"
   ]
  },
  {
   "cell_type": "code",
   "execution_count": 31,
   "id": "4d443fcb",
   "metadata": {},
   "outputs": [
    {
     "data": {
      "text/plain": [
       "Index(['log_of_age_middle_age', 'log_of_age_old', 'log_of_age_young',\n",
       "       'job_admin.', 'job_blue-collar', 'job_entrepreneur', 'job_housemaid',\n",
       "       'job_management', 'job_retired', 'job_self-employed', 'job_services',\n",
       "       'job_student', 'job_technician', 'job_unemployed', 'marital_divorced',\n",
       "       'marital_married', 'marital_single', 'education_primary',\n",
       "       'education_secondary', 'education_tertiary', 'credit_default_no',\n",
       "       'credit_default_yes', 'acc_balance_0_to_50k_acc_balance',\n",
       "       'acc_balance_more_than_50k_acc_balance',\n",
       "       'acc_balance_negative_acc_balance', 'housing_loan_no',\n",
       "       'housing_loan_yes', 'personal_loan_no', 'personal_loan_yes',\n",
       "       'contact_method_cellular', 'contact_method_telephone', 'month_apr',\n",
       "       'month_aug', 'month_dec', 'month_feb', 'month_jan', 'month_jul',\n",
       "       'month_jun', 'month_mar', 'month_may', 'month_nov', 'month_oct',\n",
       "       'month_sep', 'day_within_last_10_to_20d', 'day_within_last_10d',\n",
       "       'day_within_last_20_or_more_d', 'log_of_duration_long_duration',\n",
       "       'log_of_duration_medium_duration', 'log_of_duration_short_duration',\n",
       "       'campaign_0_to_25_contacts', 'campaign_25_to_50_contacts',\n",
       "       'campaign_more_than_50_contacts', 'pdays_more_than_750d',\n",
       "       'pdays_within_250_and_500d', 'pdays_within_250d',\n",
       "       'pdays_within_500_and_750d', 'previous_0_to_20_contacts',\n",
       "       'previous_20_to_40_contacts', 'previous_more_than_40_contacts',\n",
       "       'poutcome_failure', 'poutcome_success', 'poutcome_unknown',\n",
       "       'campaign_outcome_no', 'campaign_outcome_yes'],\n",
       "      dtype='object')"
      ]
     },
     "execution_count": 31,
     "metadata": {},
     "output_type": "execute_result"
    }
   ],
   "source": [
    "encoded_data.columns"
   ]
  },
  {
   "cell_type": "code",
   "execution_count": 32,
   "id": "f1daa0a8",
   "metadata": {},
   "outputs": [
    {
     "name": "stdout",
     "output_type": "stream",
     "text": [
      "                               Specs        Score\n",
      "62               campaign_outcome_no  5289.000000\n",
      "46     log_of_duration_long_duration  4350.200109\n",
      "60                  poutcome_success  4117.519234\n",
      "47   log_of_duration_medium_duration   797.934914\n",
      "38                         month_mar   749.019554\n",
      "41                         month_oct   740.905023\n",
      "42                         month_sep   682.526956\n",
      "25                   housing_loan_no   486.723873\n",
      "26                  housing_loan_yes   388.948850\n",
      "39                         month_may   330.264964\n",
      "8                        job_retired   269.202226\n",
      "11                       job_student   262.092934\n",
      "33                         month_dec   253.977613\n",
      "31                         month_apr   180.606079\n",
      "4                    job_blue-collar   178.903556\n",
      "61                  poutcome_unknown   178.457139\n",
      "28                 personal_loan_yes   176.306121\n",
      "1                     log_of_age_old   167.260352\n",
      "48    log_of_duration_short_duration   160.160654\n",
      "19                education_tertiary   140.971326\n",
      "24  acc_balance_negative_acc_balance   136.694746\n",
      "16                    marital_single   131.104989\n",
      "55         pdays_within_500_and_750d    70.674400\n",
      "15                   marital_married    65.486502\n",
      "34                         month_feb    62.870536\n",
      "17                 education_primary    62.548566\n",
      "2                   log_of_age_young    46.733699\n",
      "36                         month_jul    45.468336\n",
      "7                     job_management    38.804759\n",
      "27                  personal_loan_no    33.624819\n"
     ]
    }
   ],
   "source": [
    "from sklearn.feature_selection import SelectKBest\n",
    "from sklearn.feature_selection import chi2\n",
    "\n",
    "Xx = encoded_data.iloc[:,0:-1]  \n",
    "yy = encoded_data.iloc[:,-1]     \n",
    "\n",
    "#apply SelectKBest class to extract top 30 best features\n",
    "bestfeatures = SelectKBest(score_func=chi2, k=10)\n",
    "fit = bestfeatures.fit(Xx,yy)\n",
    "dfscores = pd.DataFrame(fit.scores_)\n",
    "dfcolumns = pd.DataFrame(Xx.columns)\n",
    "\n",
    "#concat two dataframes for better visualization \n",
    "featureScores = pd.concat([dfcolumns,dfscores],axis=1)\n",
    "featureScores.columns = ['Specs','Score']  #naming the dataframe columns\n",
    "print(featureScores.nlargest(30,'Score'))  #print 25 best features"
   ]
  },
  {
   "cell_type": "code",
   "execution_count": 33,
   "id": "19b978e8",
   "metadata": {},
   "outputs": [],
   "source": [
    "encoded_data.drop(['credit_default_yes','credit_default_no','housing_loan_no', 'personal_loan_no', 'contact_method_telephone','contact_method_cellular','day_within_last_10d', 'day_within_last_10_to_20d','day_within_last_20_or_more_d', 'campaign_25_to_50_contacts', 'campaign_0_to_25_contacts','campaign_more_than_50_contacts','previous_20_to_40_contacts',\n",
    "       'previous_more_than_40_contacts','previous_0_to_20_contacts','campaign_outcome_no'], axis=1, inplace=True) "
   ]
  },
  {
   "cell_type": "code",
   "execution_count": 34,
   "id": "67479b16",
   "metadata": {},
   "outputs": [
    {
     "data": {
      "text/plain": [
       "(45183, 48)"
      ]
     },
     "execution_count": 34,
     "metadata": {},
     "output_type": "execute_result"
    }
   ],
   "source": [
    "encoded_data.shape"
   ]
  },
  {
   "cell_type": "code",
   "execution_count": 35,
   "id": "4330bcc3",
   "metadata": {},
   "outputs": [
    {
     "data": {
      "text/plain": [
       "Index(['log_of_age_middle_age', 'log_of_age_old', 'log_of_age_young',\n",
       "       'job_admin.', 'job_blue-collar', 'job_entrepreneur', 'job_housemaid',\n",
       "       'job_management', 'job_retired', 'job_self-employed', 'job_services',\n",
       "       'job_student', 'job_technician', 'job_unemployed', 'marital_divorced',\n",
       "       'marital_married', 'marital_single', 'education_primary',\n",
       "       'education_secondary', 'education_tertiary',\n",
       "       'acc_balance_0_to_50k_acc_balance',\n",
       "       'acc_balance_more_than_50k_acc_balance',\n",
       "       'acc_balance_negative_acc_balance', 'housing_loan_yes',\n",
       "       'personal_loan_yes', 'month_apr', 'month_aug', 'month_dec', 'month_feb',\n",
       "       'month_jan', 'month_jul', 'month_jun', 'month_mar', 'month_may',\n",
       "       'month_nov', 'month_oct', 'month_sep', 'log_of_duration_long_duration',\n",
       "       'log_of_duration_medium_duration', 'log_of_duration_short_duration',\n",
       "       'pdays_more_than_750d', 'pdays_within_250_and_500d',\n",
       "       'pdays_within_250d', 'pdays_within_500_and_750d', 'poutcome_failure',\n",
       "       'poutcome_success', 'poutcome_unknown', 'campaign_outcome_yes'],\n",
       "      dtype='object')"
      ]
     },
     "execution_count": 35,
     "metadata": {},
     "output_type": "execute_result"
    }
   ],
   "source": [
    "encoded_data.columns"
   ]
  },
  {
   "cell_type": "code",
   "execution_count": 36,
   "id": "44eb356a",
   "metadata": {},
   "outputs": [
    {
     "name": "stdout",
     "output_type": "stream",
     "text": [
      "0    39894\n",
      "1     5289\n",
      "Name: campaign_outcome_yes, dtype: int64\n"
     ]
    },
    {
     "data": {
      "text/plain": [
       "0    88.29427\n",
       "1    11.70573\n",
       "Name: campaign_outcome_yes, dtype: float64"
      ]
     },
     "execution_count": 36,
     "metadata": {},
     "output_type": "execute_result"
    }
   ],
   "source": [
    "# checking if the dataset is imbalanced using the percentage of responses for the dependent variable\n",
    "\n",
    "print(encoded_data['campaign_outcome_yes'].value_counts())\n",
    "\n",
    "(encoded_data['campaign_outcome_yes'].value_counts()/encoded_data['campaign_outcome_yes'].value_counts().sum())*100"
   ]
  },
  {
   "cell_type": "code",
   "execution_count": 37,
   "id": "43b9accb",
   "metadata": {},
   "outputs": [
    {
     "data": {
      "image/png": "[encoded data removed]",
      "text/plain": [
       "<Figure size 432x288 with 1 Axes>"
      ]
     },
     "metadata": {},
     "output_type": "display_data"
    }
   ],
   "source": [
    "encoded_data['campaign_outcome_yes'].value_counts().plot.pie(autopct = \"% .2f\");"
   ]
  },
  {
   "cell_type": "markdown",
   "id": "dd0f3e8b",
   "metadata": {},
   "source": [
    "The dataset was imbalanced so undersampling method was used where 4228 records of customers who subscribed for the term deposit were kept, and 4228 random sample of records were selected from 31918 of customers who did not subscribe for the term deposit."
   ]
  },
  {
   "cell_type": "code",
   "execution_count": 38,
   "id": "cb39f33d",
   "metadata": {},
   "outputs": [
    {
     "name": "stdout",
     "output_type": "stream",
     "text": [
      "Before undersampling:  Counter({0: 31918, 1: 4228})\n",
      "After undersampling:  Counter({0: 4228, 1: 4228})\n"
     ]
    }
   ],
   "source": [
    "from sklearn.model_selection import train_test_split\n",
    "from sklearn.model_selection import cross_val_score\n",
    "from sklearn.model_selection import KFold\n",
    "from collections import Counter\n",
    "from sklearn.metrics import accuracy_score\n",
    "from imblearn.under_sampling import RandomUnderSampler \n",
    "\n",
    "array = encoded_data.values\n",
    "\n",
    "# Features: columns without the dependent variable\n",
    "X = array[:,0:-1]\n",
    "\n",
    "# Target variable: seperating the dependent variable \n",
    "y = array[:,-1]\n",
    "\n",
    "# 20% of the data will be used for testing\n",
    "\n",
    "X_train, X_test, y_train, y_test= train_test_split(X, y, test_size= 0.2, random_state= 88)\n",
    "\n",
    "# summarizing class distribution\n",
    "print(\"Before undersampling: \", Counter(y_train))\n",
    "\n",
    "\n",
    "# definning undersampling strategy\n",
    "random_under_sample = RandomUnderSampler(sampling_strategy= 1 ,random_state = 52)\n",
    "\n",
    "# fitting and applying the transform\n",
    "X_train_under, y_train_under = random_under_sample.fit_resample(X_train, y_train)\n",
    "\n",
    "# summarizing class distribution\n",
    "print(\"After undersampling: \", Counter(y_train_under))"
   ]
  },
  {
   "cell_type": "code",
   "execution_count": 39,
   "id": "a91f1c06",
   "metadata": {},
   "outputs": [
    {
     "data": {
      "text/plain": [
       "Index(['log_of_age_middle_age', 'log_of_age_old', 'log_of_age_young',\n",
       "       'job_admin.', 'job_blue-collar', 'job_entrepreneur', 'job_housemaid',\n",
       "       'job_management', 'job_retired', 'job_self-employed', 'job_services',\n",
       "       'job_student', 'job_technician', 'job_unemployed', 'marital_divorced',\n",
       "       'marital_married', 'marital_single', 'education_primary',\n",
       "       'education_secondary', 'education_tertiary',\n",
       "       'acc_balance_0_to_50k_acc_balance',\n",
       "       'acc_balance_more_than_50k_acc_balance',\n",
       "       'acc_balance_negative_acc_balance', 'housing_loan_yes',\n",
       "       'personal_loan_yes', 'month_apr', 'month_aug', 'month_dec', 'month_feb',\n",
       "       'month_jan', 'month_jul', 'month_jun', 'month_mar', 'month_may',\n",
       "       'month_nov', 'month_oct', 'month_sep', 'log_of_duration_long_duration',\n",
       "       'log_of_duration_medium_duration', 'log_of_duration_short_duration',\n",
       "       'pdays_more_than_750d', 'pdays_within_250_and_500d',\n",
       "       'pdays_within_250d', 'pdays_within_500_and_750d', 'poutcome_failure',\n",
       "       'poutcome_success', 'poutcome_unknown', 'campaign_outcome_yes'],\n",
       "      dtype='object')"
      ]
     },
     "execution_count": 39,
     "metadata": {},
     "output_type": "execute_result"
    }
   ],
   "source": [
    "encoded_data.columns"
   ]
  },
  {
   "cell_type": "markdown",
   "id": "3a98c0f2",
   "metadata": {},
   "source": [
    "## Applying machine learning algorithms"
   ]
  },
  {
   "cell_type": "markdown",
   "id": "7964e52c",
   "metadata": {},
   "source": [
    "### Logistic regression"
   ]
  },
  {
   "cell_type": "code",
   "execution_count": 40,
   "id": "7d72b9dd",
   "metadata": {},
   "outputs": [
    {
     "name": "stdout",
     "output_type": "stream",
     "text": [
      "accuracy is: 0.8260484674117516\n"
     ]
    },
    {
     "data": {
      "image/png": "[encoded data removed]",
      "text/plain": [
       "<Figure size 432x288 with 1 Axes>"
      ]
     },
     "metadata": {
      "needs_background": "light"
     },
     "output_type": "display_data"
    }
   ],
   "source": [
    "from sklearn.linear_model import LogisticRegression\n",
    "\n",
    "# fitting LR model\n",
    "\n",
    "LR = LogisticRegression()\n",
    "LR.fit(X_train_under, y_train_under)\n",
    "y_LR_proba = LR.predict_proba(X_test)\n",
    "\n",
    "#predicting values\n",
    "LR_predictions = LR.predict(X_test)\n",
    "\n",
    "# Accuracy Score \n",
    "print('accuracy is:', accuracy_score(y_test, LR_predictions))\n",
    "\n",
    "#plotting ROC curve\n",
    "skplt.metrics.plot_roc(y_test, y_LR_proba, title = 'ROC Plot for Logistic Regression');"
   ]
  },
  {
   "cell_type": "markdown",
   "id": "9da09d35",
   "metadata": {},
   "source": [
    "Accuracy score is the percentage of correct predictions out of all predictions made. The LR algorithm achieves an accuracy of 82.60%, suggesting high level of strength of this model to classify the customer response given all the defined customer features.\n",
    "\n",
    "The faster the ROC approaches 1, the better the model performance"
   ]
  },
  {
   "cell_type": "code",
   "execution_count": 41,
   "id": "807e6773",
   "metadata": {},
   "outputs": [
    {
     "data": {
      "image/png": "[encoded data removed]",
      "text/plain": [
       "<Figure size 432x288 with 2 Axes>"
      ]
     },
     "metadata": {
      "needs_background": "light"
     },
     "output_type": "display_data"
    }
   ],
   "source": [
    "# Confusion Matrix \n",
    "from sklearn.metrics import confusion_matrix\n",
    "\n",
    "skplt.metrics.plot_confusion_matrix(y_test, LR_predictions, title = 'Confusion matrix of the classifier');"
   ]
  },
  {
   "cell_type": "code",
   "execution_count": 42,
   "id": "f358c501",
   "metadata": {},
   "outputs": [
    {
     "name": "stdout",
     "output_type": "stream",
     "text": [
      "              precision    recall  f1-score   support\n",
      "\n",
      "           0       0.97      0.83      0.89      7976\n",
      "           1       0.38      0.80      0.52      1061\n",
      "\n",
      "    accuracy                           0.83      9037\n",
      "   macro avg       0.68      0.82      0.71      9037\n",
      "weighted avg       0.90      0.83      0.85      9037\n",
      "\n"
     ]
    }
   ],
   "source": [
    "# Classification Report\n",
    "from sklearn.metrics import classification_report\n",
    "print(classification_report(y_test, LR_predictions))"
   ]
  },
  {
   "cell_type": "markdown",
   "id": "e5b901d7",
   "metadata": {},
   "source": [
    "Classification report shows the precision, recall, F1 and support scores for the classification model.\n",
    "\n",
    "Precision of 0 (the customer did not subscribe) represents that for all instances predicted as no subscription, the percentage of clients that actually said no is 97%.\n",
    "\n",
    "Recall is the ability of a classifier to find all positive instances. Recall of 0 indicates that for all clients that actually said no, the model predicts 83% correctly that they would decline the offer.\n",
    "\n",
    "In general, the report shows that the model has great predictive power to identify the customers who would not subscribe to the term deposit with a 0.71 macro average F1-Score. "
   ]
  },
  {
   "cell_type": "markdown",
   "id": "c31b1975",
   "metadata": {},
   "source": [
    "### Bernoulli Naive Bayes "
   ]
  },
  {
   "cell_type": "code",
   "execution_count": 43,
   "id": "e8ec6f43",
   "metadata": {},
   "outputs": [
    {
     "name": "stdout",
     "output_type": "stream",
     "text": [
      "0.8101139758769503\n"
     ]
    },
    {
     "data": {
      "image/png": "[encoded data removed]",
      "text/plain": [
       "<Figure size 432x288 with 1 Axes>"
      ]
     },
     "metadata": {
      "needs_background": "light"
     },
     "output_type": "display_data"
    }
   ],
   "source": [
    "from sklearn.naive_bayes import BernoulliNB\n",
    "\n",
    "B_NV = BernoulliNB() \n",
    "B_NV.fit(X_train_under,y_train_under)\n",
    "y_B_NV_proba = B_NV.predict_proba(X_test)\n",
    "\n",
    "#predicting values\n",
    "B_NV_predictions = B_NV.predict(X_test)\n",
    "\n",
    "# Accuracy Score \n",
    "print(accuracy_score(y_test, B_NV_predictions))\n",
    "\n",
    "#plotting ROC curve\n",
    "skplt.metrics.plot_roc(y_test, y_B_NV_proba, title = 'ROC Plot for Bernoulli NB Classifier');"
   ]
  },
  {
   "cell_type": "code",
   "execution_count": 44,
   "id": "66345bed",
   "metadata": {},
   "outputs": [
    {
     "data": {
      "image/png": "[encoded data removed]",
      "text/plain": [
       "<Figure size 432x288 with 2 Axes>"
      ]
     },
     "metadata": {
      "needs_background": "light"
     },
     "output_type": "display_data"
    }
   ],
   "source": [
    "# Confusion Matrix \n",
    "from sklearn.metrics import confusion_matrix\n",
    "\n",
    "skplt.metrics.plot_confusion_matrix(y_test, B_NV_predictions, title = 'Confusion matrix of the classifier');"
   ]
  },
  {
   "cell_type": "code",
   "execution_count": 45,
   "id": "20278a85",
   "metadata": {},
   "outputs": [
    {
     "name": "stdout",
     "output_type": "stream",
     "text": [
      "              precision    recall  f1-score   support\n",
      "\n",
      "           0       0.96      0.81      0.88      7976\n",
      "           1       0.36      0.78      0.49      1061\n",
      "\n",
      "    accuracy                           0.81      9037\n",
      "   macro avg       0.66      0.80      0.69      9037\n",
      "weighted avg       0.89      0.81      0.84      9037\n",
      "\n"
     ]
    }
   ],
   "source": [
    "# Classification Report\n",
    "from sklearn.metrics import classification_report\n",
    "print(classification_report(y_test, B_NV_predictions))"
   ]
  },
  {
   "cell_type": "markdown",
   "id": "1ec4c26c",
   "metadata": {},
   "source": [
    "### Multinomial Naive Bayes Algorithm"
   ]
  },
  {
   "cell_type": "code",
   "execution_count": 46,
   "id": "a9ad19e7",
   "metadata": {},
   "outputs": [
    {
     "name": "stdout",
     "output_type": "stream",
     "text": [
      "0.8064623215668917\n"
     ]
    },
    {
     "data": {
      "image/png": "[encoded data removed]",
      "text/plain": [
       "<Figure size 432x288 with 1 Axes>"
      ]
     },
     "metadata": {
      "needs_background": "light"
     },
     "output_type": "display_data"
    }
   ],
   "source": [
    "from sklearn.naive_bayes import MultinomialNB\n",
    "\n",
    "M_NV = MultinomialNB() \n",
    "M_NV.fit(X_train_under,y_train_under) \n",
    "y_M_NV_proba = M_NV.predict_proba(X_test)\n",
    "\n",
    "#predicting values\n",
    "M_NV_predictions = M_NV.predict(X_test)\n",
    "\n",
    "# Accuracy Score \n",
    "print(accuracy_score(y_test, M_NV_predictions))\n",
    "\n",
    "#plotting ROC curve\n",
    "skplt.metrics.plot_roc(y_test, y_M_NV_proba, title = 'ROC Plot for Multinomial NB Classifier');"
   ]
  },
  {
   "cell_type": "code",
   "execution_count": 47,
   "id": "54490b3f",
   "metadata": {},
   "outputs": [
    {
     "data": {
      "image/png": "[encoded data removed]",
      "text/plain": [
       "<Figure size 432x288 with 2 Axes>"
      ]
     },
     "metadata": {
      "needs_background": "light"
     },
     "output_type": "display_data"
    }
   ],
   "source": [
    "# Confusion Matrix \n",
    "from sklearn.metrics import confusion_matrix\n",
    "\n",
    "skplt.metrics.plot_confusion_matrix(y_test, M_NV_predictions, title = 'Confusion matrix of the classifier');"
   ]
  },
  {
   "cell_type": "code",
   "execution_count": 48,
   "id": "7e4f2811",
   "metadata": {},
   "outputs": [
    {
     "name": "stdout",
     "output_type": "stream",
     "text": [
      "              precision    recall  f1-score   support\n",
      "\n",
      "           0       0.96      0.81      0.88      7976\n",
      "           1       0.35      0.78      0.49      1061\n",
      "\n",
      "    accuracy                           0.81      9037\n",
      "   macro avg       0.66      0.79      0.68      9037\n",
      "weighted avg       0.89      0.81      0.83      9037\n",
      "\n"
     ]
    }
   ],
   "source": [
    "# Classification Report\n",
    "from sklearn.metrics import classification_report\n",
    "print(classification_report(y_test, M_NV_predictions))"
   ]
  },
  {
   "cell_type": "markdown",
   "id": "9341ca3b",
   "metadata": {},
   "source": [
    "### XGBoost"
   ]
  },
  {
   "cell_type": "code",
   "execution_count": 49,
   "id": "cab76015",
   "metadata": {},
   "outputs": [
    {
     "name": "stdout",
     "output_type": "stream",
     "text": [
      "0.8044705101250414\n"
     ]
    },
    {
     "data": {
      "image/png": "[encoded data removed]",
      "text/plain": [
       "<Figure size 432x288 with 1 Axes>"
      ]
     },
     "metadata": {
      "needs_background": "light"
     },
     "output_type": "display_data"
    }
   ],
   "source": [
    "import xgboost as xgb\n",
    "from xgboost import XGBClassifier\n",
    "\n",
    "XGB = XGBClassifier()\n",
    "XGB.fit(X_train_under, y_train_under)\n",
    "y_XGB_proba = XGB.predict_proba(X_test)\n",
    "\n",
    "#predicting values\n",
    "XGB_predictions = XGB.predict(X_test)\n",
    "\n",
    "# Accuracy Score \n",
    "print(accuracy_score(y_test, XGB_predictions))\n",
    "\n",
    "#plotting ROC curve\n",
    "skplt.metrics.plot_roc(y_test, y_XGB_proba, title = 'ROC Plot for XGBoost Classifier');"
   ]
  },
  {
   "cell_type": "code",
   "execution_count": 50,
   "id": "210ee4a3",
   "metadata": {},
   "outputs": [
    {
     "data": {
      "image/png": "[encoded data removed]",
      "text/plain": [
       "<Figure size 432x288 with 2 Axes>"
      ]
     },
     "metadata": {
      "needs_background": "light"
     },
     "output_type": "display_data"
    }
   ],
   "source": [
    "# Confusion Matrix \n",
    "from sklearn.metrics import confusion_matrix\n",
    "\n",
    "skplt.metrics.plot_confusion_matrix(y_test, XGB_predictions, title = 'Confusion matrix of the classifier');"
   ]
  },
  {
   "cell_type": "code",
   "execution_count": 51,
   "id": "273a3c54",
   "metadata": {},
   "outputs": [
    {
     "name": "stdout",
     "output_type": "stream",
     "text": [
      "              precision    recall  f1-score   support\n",
      "\n",
      "           0       0.98      0.80      0.88      7976\n",
      "           1       0.36      0.86      0.51      1061\n",
      "\n",
      "    accuracy                           0.80      9037\n",
      "   macro avg       0.67      0.83      0.69      9037\n",
      "weighted avg       0.90      0.80      0.83      9037\n",
      "\n"
     ]
    }
   ],
   "source": [
    "# Classification Report\n",
    "from sklearn.metrics import classification_report\n",
    "print(classification_report(y_test, XGB_predictions))"
   ]
  },
  {
   "cell_type": "markdown",
   "id": "36ed2d89",
   "metadata": {},
   "source": [
    "### Random Forest"
   ]
  },
  {
   "cell_type": "code",
   "execution_count": 52,
   "id": "4dde2f58",
   "metadata": {},
   "outputs": [
    {
     "name": "stdout",
     "output_type": "stream",
     "text": [
      "Accuracy score is: 0.782117959499834\n"
     ]
    },
    {
     "data": {
      "image/png": "[encoded data removed]",
      "text/plain": [
       "<Figure size 432x288 with 1 Axes>"
      ]
     },
     "metadata": {
      "needs_background": "light"
     },
     "output_type": "display_data"
    }
   ],
   "source": [
    "# importing random forest classifier from assemble module\n",
    "from sklearn.ensemble import RandomForestClassifier\n",
    "\n",
    "# fitting LR model\n",
    "RF = RandomForestClassifier()\n",
    "RF.fit(X_train_under, y_train_under)\n",
    "y_RF_proba = RF.predict_proba(X_test)\n",
    "\n",
    "#predicting values\n",
    "RF_predictions = RF.predict(X_test)\n",
    "\n",
    "# Accuracy Score \n",
    "print('Accuracy score is:',accuracy_score(y_test, RF_predictions))\n",
    "\n",
    "#plotting ROC curve\n",
    "skplt.metrics.plot_roc(y_test, y_RF_proba, title = 'ROC Plot for Random Forest Classifier');"
   ]
  },
  {
   "cell_type": "code",
   "execution_count": 53,
   "id": "f765dfec",
   "metadata": {},
   "outputs": [
    {
     "data": {
      "image/png": "[encoded data removed]",
      "text/plain": [
       "<Figure size 432x288 with 2 Axes>"
      ]
     },
     "metadata": {
      "needs_background": "light"
     },
     "output_type": "display_data"
    }
   ],
   "source": [
    "# Confusion Matrix \n",
    "from sklearn.metrics import confusion_matrix\n",
    "\n",
    "skplt.metrics.plot_confusion_matrix(y_test, RF_predictions, title = 'Confusion matrix of the classifier');"
   ]
  },
  {
   "cell_type": "code",
   "execution_count": 54,
   "id": "e9e5af7d",
   "metadata": {},
   "outputs": [
    {
     "name": "stdout",
     "output_type": "stream",
     "text": [
      "              precision    recall  f1-score   support\n",
      "\n",
      "           0       0.97      0.78      0.86      7976\n",
      "           1       0.33      0.83      0.47      1061\n",
      "\n",
      "    accuracy                           0.78      9037\n",
      "   macro avg       0.65      0.80      0.67      9037\n",
      "weighted avg       0.90      0.78      0.82      9037\n",
      "\n"
     ]
    }
   ],
   "source": [
    "# Classification Report\n",
    "from sklearn.metrics import classification_report\n",
    "print(classification_report(y_test, RF_predictions))"
   ]
  },
  {
   "cell_type": "markdown",
   "id": "19e4021b",
   "metadata": {},
   "source": [
    "# Comparing the models"
   ]
  },
  {
   "cell_type": "markdown",
   "id": "17551ab3",
   "metadata": {},
   "source": [
    "## All models cross validation score"
   ]
  },
  {
   "cell_type": "code",
   "execution_count": 55,
   "id": "fa715b9a",
   "metadata": {},
   "outputs": [
    {
     "name": "stdout",
     "output_type": "stream",
     "text": [
      "[0.7870621236789407, 0.7532013487613242, 0.7579594057836009, 0.706452874888505, 0.6984641689717591]\n"
     ]
    }
   ],
   "source": [
    "#importing necessary packages\n",
    "from sklearn.model_selection import cross_val_score\n",
    "\n",
    "LR = LogisticRegression()\n",
    "B_NV = BernoulliNB()\n",
    "M_NV = MultinomialNB() \n",
    "XGB = XGBClassifier()\n",
    "RF = RandomForestClassifier()\n",
    "\n",
    "y = encoded_data['campaign_outcome_yes']\n",
    "                 \n",
    "models=[LR,B_NV,M_NV, XGB,RF]\n",
    "scores=[]\n",
    "\n",
    "for model in models:\n",
    "    \n",
    "    score=cross_val_score(model,X,y,cv=5).mean()\n",
    "    scores.append(score)\n",
    "    \n",
    "print(scores)"
   ]
  },
  {
   "cell_type": "markdown",
   "id": "2dbc9f65",
   "metadata": {},
   "source": [
    "Cross validation technique was used to assess how well each of the predictive models will perform in real-world situations or on unseen data. It also reduces overfitting and underfitting problems as it reduces bias and variance. According to the cross-validation scores calculated, Logistic Regression recorded the highest value of 0.7871 followed by Multinomial Naïve Bayes with 0.758."
   ]
  },
  {
   "cell_type": "markdown",
   "id": "68969a2b",
   "metadata": {},
   "source": [
    "\n",
    "## ROC AUC for each model"
   ]
  },
  {
   "cell_type": "code",
   "execution_count": 65,
   "id": "3cd44524",
   "metadata": {},
   "outputs": [
    {
     "data": {
      "image/png": "[encoded data removed]",
      "text/plain": [
       "<Figure size 576x432 with 1 Axes>"
      ]
     },
     "metadata": {
      "needs_background": "light"
     },
     "output_type": "display_data"
    }
   ],
   "source": [
    "from sklearn.metrics import roc_curve\n",
    "from sklearn.metrics import roc_auc_score\n",
    "\n",
    "# Instantiate the classfiers and make a list\n",
    "classifiers = [LogisticRegression(random_state=1234), \n",
    "               BernoulliNB(),\n",
    "               MultinomialNB(),\n",
    "               XGBClassifier(random_state=1234),\n",
    "               RandomForestClassifier(random_state=1234)]\n",
    "\n",
    "# Define a result table as a DataFrame\n",
    "result_table = pd.DataFrame(columns=['classifiers', 'fpr','tpr','auc'])\n",
    "\n",
    "# Train the models and record the results\n",
    "for cls in classifiers:\n",
    "    model = cls.fit(X_train_under, y_train_under)\n",
    "    yproba = model.predict_proba(X_test)[::,1]\n",
    "    \n",
    "    fpr, tpr, _ = roc_curve(y_test,yproba)\n",
    "    auc = roc_auc_score(y_test, yproba)\n",
    "    \n",
    "    result_table = result_table.append({'classifiers':cls.__class__.__name__,\n",
    "                                        'fpr':fpr, \n",
    "                                        'tpr':tpr, \n",
    "                                        'auc':auc}, ignore_index=True)\n",
    "    \n",
    "    # Set name of the classifiers as index labels\n",
    "result_table.set_index('classifiers', inplace=True)\n",
    "\n",
    "fig = plt.figure(figsize=(8,6))\n",
    "\n",
    "for i in result_table.index:\n",
    "    plt.plot(result_table.loc[i]['fpr'], \n",
    "             result_table.loc[i]['tpr'], \n",
    "             label=\"{}, AUC={:.3f}\".format(i, result_table.loc[i]['auc']))\n",
    "    \n",
    "plt.plot([0,1], [0,1], color='orange', linestyle='--')\n",
    "\n",
    "plt.xticks(np.arange(0.0, 1.1, step=0.1))\n",
    "plt.xlabel(\"Flase Positive Rate\", fontsize=15)\n",
    "\n",
    "plt.yticks(np.arange(0.0, 1.1, step=0.1))\n",
    "plt.ylabel(\"True Positive Rate\", fontsize=15)\n",
    "\n",
    "plt.title('ROC AUC Analysis', fontweight='bold', fontsize=15)\n",
    "plt.legend(prop={'size':13}, loc='lower right')\n",
    "\n",
    "plt.show()"
   ]
  },
  {
   "cell_type": "markdown",
   "id": "71f0a690",
   "metadata": {},
   "source": [
    "According to the ROC AUC of all models, XGBoost has the largest area under the curve,0.884 which is slighty higher when compared with Logistic Regression with an area under the curve equal to 0.881. The diagonal line represents AUC=0.5, meaning AUC for random guessing. The further away the ROC curve is from this line, the better the model performance."
   ]
  },
  {
   "cell_type": "markdown",
   "id": "d015516c",
   "metadata": {},
   "source": [
    "# Feature importance "
   ]
  },
  {
   "cell_type": "code",
   "execution_count": 61,
   "id": "da41a5da",
   "metadata": {},
   "outputs": [
    {
     "name": "stdout",
     "output_type": "stream",
     "text": [
      "[0.01054105 0.00978904 0.00065752 0.01611241 0.01627374 0.0081284\n",
      " 0.00609698 0.0154641  0.01204586 0.00811741 0.00960726 0.00947033\n",
      " 0.0183901  0.00865927 0.01148257 0.01733163 0.01614964 0.01273414\n",
      " 0.01691568 0.01673262 0.00859744 0.00019811 0.00754164 0.06085345\n",
      " 0.0266893  0.0244548  0.02031322 0.00682199 0.01450177 0.00855761\n",
      " 0.01751895 0.01461716 0.02468836 0.0284551  0.0131007  0.02436574\n",
      " 0.01450001 0.14941049 0.12746864 0.01841552 0.0008639  0.01037556\n",
      " 0.01065878 0.00144234 0.01522575 0.06837543 0.04128851]\n"
     ]
    },
    {
     "data": {
      "image/png": "[encoded data removed]",
      "text/plain": [
       "<Figure size 432x288 with 1 Axes>"
      ]
     },
     "metadata": {
      "needs_background": "light"
     },
     "output_type": "display_data"
    }
   ],
   "source": [
    "from sklearn.ensemble import ExtraTreesClassifier\n",
    "\n",
    "model = ExtraTreesClassifier()\n",
    "model.fit(X_train_under,y_train_under)\n",
    "print(model.feature_importances_) \n",
    " \n",
    "#plot the graph of feature importances \n",
    "feat_importances = pd.Series(model.feature_importances_, index=encoded_data.columns[:-1])\n",
    "feat_importances.nlargest(10).plot(kind='barh')\n",
    "plt.show()"
   ]
  },
  {
   "cell_type": "markdown",
   "id": "b48c64c1",
   "metadata": {},
   "source": [
    "The top 10 features that impact the outcome of the telemarketing campaign. Call duration seems to have the highest impact, followed by successful previous campaign outcomes, having housing loans, unknown previous campaign outcomes, campaigns conducted in the month of May, having personal loans, and campaigns conducted in month of April, March and October respectively."
   ]
  },
  {
   "cell_type": "code",
   "execution_count": null,
   "id": "a32204f1",
   "metadata": {},
   "outputs": [],
   "source": []
  }
 ],
 "metadata": {
  "kernelspec": {
   "display_name": "Python 3 (ipykernel)",
   "language": "python",
   "name": "python3"
  },
  "language_info": {
   "codemirror_mode": {
    "name": "ipython",
    "version": 3
   },
   "file_extension": ".py",
   "mimetype": "text/x-python",
   "name": "python",
   "nbconvert_exporter": "python",
   "pygments_lexer": "ipython3",
   "version": "3.9.12"
  }
 },
 "nbformat": 4,
 "nbformat_minor": 5
}
